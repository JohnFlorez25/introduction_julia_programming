{
  "cells": [
    {
      "cell_type": "markdown",
      "source": [
        "# Estructuras Repititivas Loops\n",
        "Las estructururas repetitivas o cíclicas son aquellos bloques de código que nos permiten acceder o monitorear un bloque de código particular para que ejecute una serie de instrucciones hasta que se cumpla una condición de salida de la estructrura repetitiva.\n",
        "\n",
        "Vamos a analizar e implementar dos estructuras repetitivas claves:\n",
        "+ __while__ loops\n",
        "+ __for__ loops"
      ],
      "metadata": {
        "nteract": {
          "transient": {
            "deleting": false
          }
        }
      }
    },
    {
      "cell_type": "markdown",
      "source": [
        "# Estructura Repetitiva Mientras (While Loops)\n",
        "### La sintaxis de esta estructura es la siguiente:\n",
        "`while *condición*\n",
        "    *cuerpo o bloque de código a ejecutar*\n",
        "end`"
      ],
      "metadata": {
        "nteract": {
          "transient": {
            "deleting": false
          }
        }
      }
    },
    {
      "cell_type": "markdown",
      "source": [
        "Por ejemplo, vamos a mostrar los nùmeros del 1 al 10, definiendo una variable __n__ la cual se inicializa con __0__, donde vamos aumentando de uno en uno su valor hasta que se muestren los números del 1 al 10"
      ],
      "metadata": {
        "nteract": {
          "transient": {
            "deleting": false
          }
        }
      }
    },
    {
      "cell_type": "code",
      "source": [
        "n = 0\n",
        "while n < 10\n",
        "    n+=1\n",
        "    # n+=1 es una forma alternativa de decir n = n + 1\n",
        "    println(n)\n",
        "end"
      ],
      "outputs": [
        {
          "output_type": "stream",
          "name": "stdout",
          "text": [
            "1\n",
            "2\n",
            "3\n",
            "4\n",
            "5\n",
            "6\n",
            "7\n",
            "8\n",
            "9\n",
            "10\n"
          ]
        }
      ],
      "execution_count": 3,
      "metadata": {
        "collapsed": true,
        "outputExpanded": false,
        "jupyter": {
          "source_hidden": false,
          "outputs_hidden": false
        },
        "nteract": {
          "transient": {
            "deleting": false
          }
        },
        "execution": {
          "iopub.status.busy": "2020-04-20T06:52:07.849Z",
          "iopub.execute_input": "2020-04-20T06:52:07.852Z",
          "iopub.status.idle": "2020-04-20T06:52:07.865Z"
        }
      }
    },
    {
      "cell_type": "markdown",
      "source": [
        "Otra actividad que podemos realizar con las __estructuras repetitivas__ es iterar un __array__ para mostrar los elementos que tenemos almacenados en ese arreglo"
      ],
      "metadata": {
        "nteract": {
          "transient": {
            "deleting": false
          }
        }
      }
    },
    {
      "cell_type": "code",
      "source": [
        "# Arreglo que almacena los cursos que estoy viendo en el semestre lectivo\n",
        "myCourses = [\"Inteligencia Artificial\", \"Simulación I\", \"Calculo Diferencial\", \"Estadística Descriptiva\"]\n",
        "# la variable i determinará el inicio del ciclo\n",
        "i = 1\n",
        "# con la función length() podemos capturar la dimensión de un array\n",
        "while i <= length(myCourses)\n",
        "    # usamos una variable course auxiliar para capturar cada uno de los cursos\n",
        "    course = myCourses[i]\n",
        "    # Imprimimos en pantalla el curso que estamos viendo\n",
        "    println(\"Este semestre estás viendo el curso de $course\")\n",
        "    # Aumentamos la variable en uno (contador) para poder continuar con el transcurso del ciclo mientras\n",
        "    i += 1\n",
        "end"
      ],
      "outputs": [
        {
          "output_type": "stream",
          "name": "stdout",
          "text": [
            "Este semestre estás viendo el curso de Inteligencia Artificial\n",
            "Este semestre estás viendo el curso de Simulación I\n",
            "Este semestre estás viendo el curso de Calculo Diferencial\n",
            "Este semestre estás viendo el curso de Estadística Descriptiva\n"
          ]
        }
      ],
      "execution_count": 6,
      "metadata": {
        "collapsed": true,
        "outputExpanded": false,
        "jupyter": {
          "source_hidden": false,
          "outputs_hidden": false
        },
        "nteract": {
          "transient": {
            "deleting": false
          }
        },
        "execution": {
          "iopub.status.busy": "2020-04-20T06:58:14.821Z",
          "iopub.execute_input": "2020-04-20T06:58:14.824Z",
          "iopub.status.idle": "2020-04-20T06:58:14.831Z"
        }
      }
    },
    {
      "cell_type": "markdown",
      "source": [
        "> Con los ciclos __Mientras__ es muy importante recordar que dentro del cuerpo de ejecución del ciclo se debe aumentar o decrementar la variable controladora (__esta variable es la que se encarga en romper el ciclo__) ya qué, si esto no se realiza quedaríamos en un __ciclo infinito__"
      ],
      "metadata": {
        "nteract": {
          "transient": {
            "deleting": false
          }
        }
      }
    },
    {
      "cell_type": "markdown",
      "source": [
        "# Estructura Repetitiva Para (For Loops)\n",
        "### La sintaxis de esta estructura es la siguiente:\n",
        "`for *variable inicial* in *iteración del ciclo*\n",
        "    *cuerpo o bloque de código a ejecutar*\n",
        "end`"
      ],
      "metadata": {
        "nteract": {
          "transient": {
            "deleting": false
          }
        }
      }
    },
    {
      "cell_type": "markdown",
      "source": [
        "En esta serie de ejemplos podemos realizar las mismas actividades y resultados que obtuvimos haciendo uso de la estructura repetitiva __Mientras__"
      ],
      "metadata": {
        "nteract": {
          "transient": {
            "deleting": false
          }
        }
      }
    },
    {
      "cell_type": "code",
      "source": [
        "for n in 1:10\n",
        "    println(n)\n",
        "end"
      ],
      "outputs": [
        {
          "output_type": "stream",
          "name": "stdout",
          "text": [
            "1\n",
            "2\n",
            "3\n",
            "4\n",
            "5\n",
            "6\n",
            "7\n",
            "8\n",
            "9\n",
            "10\n"
          ]
        }
      ],
      "execution_count": 7,
      "metadata": {
        "collapsed": true,
        "outputExpanded": false,
        "jupyter": {
          "source_hidden": false,
          "outputs_hidden": false
        },
        "nteract": {
          "transient": {
            "deleting": false
          }
        },
        "execution": {
          "iopub.status.busy": "2020-04-20T07:02:16.030Z",
          "iopub.execute_input": "2020-04-20T07:02:16.035Z",
          "iopub.status.idle": "2020-04-20T07:02:16.084Z"
        }
      }
    },
    {
      "cell_type": "code",
      "source": [
        "for course in myCourses\n",
        "    println(\"Este semestre estás viendo el curso de $course\")\n",
        "end"
      ],
      "outputs": [
        {
          "output_type": "stream",
          "name": "stdout",
          "text": [
            "Este semestre estás viendo el curso de Inteligencia Artificial\n",
            "Este semestre estás viendo el curso de Simulación I\n",
            "Este semestre estás viendo el curso de Calculo Diferencial\n",
            "Este semestre estás viendo el curso de Estadística Descriptiva\n"
          ]
        }
      ],
      "execution_count": 8,
      "metadata": {
        "collapsed": true,
        "outputExpanded": false,
        "jupyter": {
          "source_hidden": false,
          "outputs_hidden": false
        },
        "nteract": {
          "transient": {
            "deleting": false
          }
        },
        "execution": {
          "iopub.status.busy": "2020-04-20T07:02:49.427Z",
          "iopub.execute_input": "2020-04-20T07:02:49.433Z",
          "iopub.status.idle": "2020-04-20T07:02:49.440Z"
        }
      }
    },
    {
      "cell_type": "markdown",
      "source": [
        "> En Julia podemos reemplazar __in__ por `=` o `∈`"
      ],
      "metadata": {
        "nteract": {
          "transient": {
            "deleting": false
          }
        }
      }
    },
    {
      "cell_type": "code",
      "source": [
        "for n = 1:10\n",
        "    println(n)\n",
        "end"
      ],
      "outputs": [
        {
          "output_type": "stream",
          "name": "stdout",
          "text": [
            "1\n",
            "2\n",
            "3\n",
            "4\n",
            "5\n",
            "6\n",
            "7\n",
            "8\n",
            "9\n",
            "10\n"
          ]
        }
      ],
      "execution_count": 12,
      "metadata": {
        "collapsed": true,
        "outputExpanded": false,
        "jupyter": {
          "source_hidden": false,
          "outputs_hidden": false
        },
        "nteract": {
          "transient": {
            "deleting": false
          }
        },
        "execution": {
          "iopub.status.busy": "2020-04-20T07:05:39.873Z",
          "iopub.execute_input": "2020-04-20T07:05:39.877Z",
          "iopub.status.idle": "2020-04-20T07:05:39.885Z"
        }
      }
    },
    {
      "cell_type": "code",
      "source": [
        "for n ∈ 1:10\n",
        "    println(n)\n",
        "end"
      ],
      "outputs": [
        {
          "output_type": "stream",
          "name": "stdout",
          "text": [
            "1\n",
            "2\n",
            "3\n",
            "4\n",
            "5\n",
            "6\n",
            "7\n",
            "8\n",
            "9\n",
            "10\n"
          ]
        }
      ],
      "execution_count": 13,
      "metadata": {
        "collapsed": true,
        "outputExpanded": false,
        "jupyter": {
          "source_hidden": false,
          "outputs_hidden": false
        },
        "nteract": {
          "transient": {
            "deleting": false
          }
        },
        "execution": {
          "iopub.status.busy": "2020-04-20T07:05:41.083Z",
          "iopub.execute_input": "2020-04-20T07:05:41.088Z",
          "iopub.status.idle": "2020-04-20T07:05:41.096Z"
        }
      }
    },
    {
      "cell_type": "markdown",
      "source": [
        "Ahora vamos a usar los ciclos __for__ para crear algunas tablas adicionales, donde los valores de cada entrada es la suma de los indices de su fila y columna"
      ],
      "metadata": {
        "nteract": {
          "transient": {
            "deleting": false
          }
        }
      }
    },
    {
      "cell_type": "code",
      "source": [
        "# Inicializando las dimensiones del arreglo, puedo separar por comas las variables para que en una sola linea inicialice varias variables\n",
        "n, m = 5, 5\n",
        "# Es buena práctica declarar e inicializar nuestras variables, en este caso vamos a crear una matriz llamada A llena de ceros haciendo uso de la función zeros()\n",
        "A = zeros(n,m)"
      ],
      "outputs": [
        {
          "output_type": "execute_result",
          "execution_count": 14,
          "data": {
            "text/plain": [
              "5×5 Array{Float64,2}:\n",
              " 0.0  0.0  0.0  0.0  0.0\n",
              " 0.0  0.0  0.0  0.0  0.0\n",
              " 0.0  0.0  0.0  0.0  0.0\n",
              " 0.0  0.0  0.0  0.0  0.0\n",
              " 0.0  0.0  0.0  0.0  0.0"
            ]
          },
          "metadata": {}
        }
      ],
      "execution_count": 14,
      "metadata": {
        "collapsed": true,
        "outputExpanded": false,
        "jupyter": {
          "source_hidden": false,
          "outputs_hidden": false
        },
        "nteract": {
          "transient": {
            "deleting": false
          }
        },
        "execution": {
          "iopub.status.busy": "2020-04-20T07:09:24.258Z",
          "iopub.execute_input": "2020-04-20T07:09:24.265Z",
          "iopub.status.idle": "2020-04-20T07:09:25.771Z"
        }
      }
    },
    {
      "cell_type": "code",
      "source": [
        "for i in 1:n\n",
        "    for j in 1:m\n",
        "        A[i, j] = i + j\n",
        "    end\n",
        "end\n",
        "A"
      ],
      "outputs": [
        {
          "output_type": "execute_result",
          "execution_count": 17,
          "data": {
            "text/plain": [
              "5×5 Array{Float64,2}:\n",
              " 2.0  3.0  4.0  5.0   6.0\n",
              " 3.0  4.0  5.0  6.0   7.0\n",
              " 4.0  5.0  6.0  7.0   8.0\n",
              " 5.0  6.0  7.0  8.0   9.0\n",
              " 6.0  7.0  8.0  9.0  10.0"
            ]
          },
          "metadata": {}
        }
      ],
      "execution_count": 17,
      "metadata": {
        "collapsed": true,
        "outputExpanded": false,
        "jupyter": {
          "source_hidden": false,
          "outputs_hidden": false
        },
        "nteract": {
          "transient": {
            "deleting": false
          }
        },
        "execution": {
          "iopub.status.busy": "2020-04-20T07:11:07.599Z",
          "iopub.execute_input": "2020-04-20T07:11:07.603Z",
          "iopub.status.idle": "2020-04-20T07:11:07.657Z"
        }
      }
    },
    {
      "cell_type": "markdown",
      "source": [
        "> Julia nos provee una sintáxis más práctica y corta __syntactic sugar__ para expresar el anterior anidamiento de los ciclos __for__"
      ],
      "metadata": {
        "nteract": {
          "transient": {
            "deleting": false
          }
        }
      }
    },
    {
      "cell_type": "code",
      "source": [
        "B = zeros(n,m)\n",
        "for i in 1:n , j = 1:m\n",
        "    B[i,j] = i + j\n",
        "end\n",
        "B"
      ],
      "outputs": [
        {
          "output_type": "execute_result",
          "execution_count": 19,
          "data": {
            "text/plain": [
              "5×5 Array{Float64,2}:\n",
              " 2.0  3.0  4.0  5.0   6.0\n",
              " 3.0  4.0  5.0  6.0   7.0\n",
              " 4.0  5.0  6.0  7.0   8.0\n",
              " 5.0  6.0  7.0  8.0   9.0\n",
              " 6.0  7.0  8.0  9.0  10.0"
            ]
          },
          "metadata": {}
        }
      ],
      "execution_count": 19,
      "metadata": {
        "collapsed": true,
        "outputExpanded": false,
        "jupyter": {
          "source_hidden": false,
          "outputs_hidden": false
        },
        "nteract": {
          "transient": {
            "deleting": false
          }
        },
        "execution": {
          "iopub.status.busy": "2020-04-20T07:14:06.510Z",
          "iopub.execute_input": "2020-04-20T07:14:06.516Z",
          "iopub.status.idle": "2020-04-20T07:14:06.526Z"
        }
      }
    },
    {
      "cell_type": "markdown",
      "source": [
        "Ahora, al entender que podemos usar __azucar sintáctico__ Julia provee una forma magnífica de generar la tabla anterior con un __array comprehension__"
      ],
      "metadata": {
        "nteract": {
          "transient": {
            "deleting": false
          }
        }
      }
    },
    {
      "cell_type": "code",
      "source": [
        "C = [ i + j for i in 1:n, j ∈ 1:m]"
      ],
      "outputs": [
        {
          "output_type": "execute_result",
          "execution_count": 20,
          "data": {
            "text/plain": [
              "5×5 Array{Int64,2}:\n",
              " 2  3  4  5   6\n",
              " 3  4  5  6   7\n",
              " 4  5  6  7   8\n",
              " 5  6  7  8   9\n",
              " 6  7  8  9  10"
            ]
          },
          "metadata": {}
        }
      ],
      "execution_count": 20,
      "metadata": {
        "collapsed": true,
        "outputExpanded": false,
        "jupyter": {
          "source_hidden": false,
          "outputs_hidden": false
        },
        "nteract": {
          "transient": {
            "deleting": false
          }
        },
        "execution": {
          "iopub.status.busy": "2020-04-20T07:20:36.230Z",
          "iopub.execute_input": "2020-04-20T07:20:36.239Z",
          "iopub.status.idle": "2020-04-20T07:20:37.622Z"
        }
      }
    },
    {
      "cell_type": "markdown",
      "source": [
        "En el siguiente ejemplo, vamos a embeber un __array comprehension__ en un __foor loop__, generando tablas adicionales que creciendo su tamaño"
      ],
      "metadata": {
        "nteract": {
          "transient": {
            "deleting": false
          }
        }
      }
    },
    {
      "cell_type": "code",
      "source": [
        "for n in 1:10\n",
        "    D = [ i + j for i in 1:n, j = 1:n]\n",
        "    display(D)\n",
        "end"
      ],
      "outputs": [
        {
          "output_type": "display_data",
          "data": {
            "text/plain": [
              "1×1 Array{Int64,2}:\n",
              " 2"
            ]
          },
          "metadata": {}
        },
        {
          "output_type": "display_data",
          "data": {
            "text/plain": [
              "2×2 Array{Int64,2}:\n",
              " 2  3\n",
              " 3  4"
            ]
          },
          "metadata": {}
        },
        {
          "output_type": "display_data",
          "data": {
            "text/plain": [
              "3×3 Array{Int64,2}:\n",
              " 2  3  4\n",
              " 3  4  5\n",
              " 4  5  6"
            ]
          },
          "metadata": {}
        },
        {
          "output_type": "display_data",
          "data": {
            "text/plain": [
              "4×4 Array{Int64,2}:\n",
              " 2  3  4  5\n",
              " 3  4  5  6\n",
              " 4  5  6  7\n",
              " 5  6  7  8"
            ]
          },
          "metadata": {}
        },
        {
          "output_type": "display_data",
          "data": {
            "text/plain": [
              "5×5 Array{Int64,2}:\n",
              " 2  3  4  5   6\n",
              " 3  4  5  6   7\n",
              " 4  5  6  7   8\n",
              " 5  6  7  8   9\n",
              " 6  7  8  9  10"
            ]
          },
          "metadata": {}
        },
        {
          "output_type": "display_data",
          "data": {
            "text/plain": [
              "6×6 Array{Int64,2}:\n",
              " 2  3  4   5   6   7\n",
              " 3  4  5   6   7   8\n",
              " 4  5  6   7   8   9\n",
              " 5  6  7   8   9  10\n",
              " 6  7  8   9  10  11\n",
              " 7  8  9  10  11  12"
            ]
          },
          "metadata": {}
        },
        {
          "output_type": "display_data",
          "data": {
            "text/plain": [
              "7×7 Array{Int64,2}:\n",
              " 2  3   4   5   6   7   8\n",
              " 3  4   5   6   7   8   9\n",
              " 4  5   6   7   8   9  10\n",
              " 5  6   7   8   9  10  11\n",
              " 6  7   8   9  10  11  12\n",
              " 7  8   9  10  11  12  13\n",
              " 8  9  10  11  12  13  14"
            ]
          },
          "metadata": {}
        },
        {
          "output_type": "display_data",
          "data": {
            "text/plain": [
              "8×8 Array{Int64,2}:\n",
              " 2   3   4   5   6   7   8   9\n",
              " 3   4   5   6   7   8   9  10\n",
              " 4   5   6   7   8   9  10  11\n",
              " 5   6   7   8   9  10  11  12\n",
              " 6   7   8   9  10  11  12  13\n",
              " 7   8   9  10  11  12  13  14\n",
              " 8   9  10  11  12  13  14  15\n",
              " 9  10  11  12  13  14  15  16"
            ]
          },
          "metadata": {}
        },
        {
          "output_type": "display_data",
          "data": {
            "text/plain": [
              "9×9 Array{Int64,2}:\n",
              "  2   3   4   5   6   7   8   9  10\n",
              "  3   4   5   6   7   8   9  10  11\n",
              "  4   5   6   7   8   9  10  11  12\n",
              "  5   6   7   8   9  10  11  12  13\n",
              "  6   7   8   9  10  11  12  13  14\n",
              "  7   8   9  10  11  12  13  14  15\n",
              "  8   9  10  11  12  13  14  15  16\n",
              "  9  10  11  12  13  14  15  16  17\n",
              " 10  11  12  13  14  15  16  17  18"
            ]
          },
          "metadata": {}
        },
        {
          "output_type": "display_data",
          "data": {
            "text/plain": [
              "10×10 Array{Int64,2}:\n",
              "  2   3   4   5   6   7   8   9  10  11\n",
              "  3   4   5   6   7   8   9  10  11  12\n",
              "  4   5   6   7   8   9  10  11  12  13\n",
              "  5   6   7   8   9  10  11  12  13  14\n",
              "  6   7   8   9  10  11  12  13  14  15\n",
              "  7   8   9  10  11  12  13  14  15  16\n",
              "  8   9  10  11  12  13  14  15  16  17\n",
              "  9  10  11  12  13  14  15  16  17  18\n",
              " 10  11  12  13  14  15  16  17  18  19\n",
              " 11  12  13  14  15  16  17  18  19  20"
            ]
          },
          "metadata": {}
        }
      ],
      "execution_count": 21,
      "metadata": {
        "collapsed": true,
        "outputExpanded": false,
        "jupyter": {
          "source_hidden": false,
          "outputs_hidden": false
        },
        "nteract": {
          "transient": {
            "deleting": false
          }
        },
        "execution": {
          "iopub.status.busy": "2020-04-20T07:24:10.525Z",
          "iopub.execute_input": "2020-04-20T07:24:10.533Z",
          "iopub.status.idle": "2020-04-20T07:24:12.946Z"
        }
      }
    },
    {
      "cell_type": "code",
      "source": [],
      "outputs": [],
      "execution_count": null,
      "metadata": {
        "collapsed": true,
        "outputExpanded": false,
        "jupyter": {
          "source_hidden": false,
          "outputs_hidden": false
        },
        "nteract": {
          "transient": {
            "deleting": false
          }
        }
      }
    }
  ],
  "metadata": {
    "kernel_info": {
      "name": "julia-1.4"
    },
    "language_info": {
      "file_extension": ".jl",
      "name": "julia",
      "mimetype": "application/julia",
      "version": "1.4.0"
    },
    "kernelspec": {
      "argv": [
        "/Applications/JuliaPro-1.4.0-1.app/Contents/Resources/julia/Contents/Resources/julia/bin/julia",
        "-i",
        "--startup-file=yes",
        "--color=yes",
        "--project=@.",
        "/Users/johnflorez/.juliapro/JuliaPro_v1.4.0-1/packages/IJulia/fRegO/src/kernel.jl",
        "{connection_file}"
      ],
      "display_name": "Julia 1.4.0",
      "env": {},
      "interrupt_mode": "signal",
      "language": "julia",
      "name": "julia-1.4"
    },
    "nteract": {
      "version": "0.22.4"
    }
  },
  "nbformat": 4,
  "nbformat_minor": 0
}