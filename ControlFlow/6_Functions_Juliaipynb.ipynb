{
  "cells": [
    {
      "cell_type": "markdown",
      "source": [
        "# Funciones en Julia (Functions)\n",
        "Las funciones permiten ejecutar un conjunto espécifico de instrucciones que van a realizar una tarea, donde por lo general, retornan un resultado de acuerdo a la solicitud o motivo de invocación de dicha función, las funciones deben declararse para que luego puedan ser invocadas."
      ],
      "metadata": {
        "nteract": {
          "transient": {
            "deleting": false
          }
        }
      }
    },
    {
      "cell_type": "markdown",
      "source": [
        "## Como declarar una función\n",
        "Julia ofrece diferentes formas de declarar una función. La primera requiere indicar con el prefijo __function__ anexar el nombre de la función, definir una zona de parametros, los cuales vienen encapsulados dentro de dos parentesis, la instrucción de código que deben ejecutar y finalizar con la palabra __end__\n",
        "### La sintaxis sería la siguiente:\n",
        "`function [nombre de la función] (parametros)\n",
        "    instrucciones de código que debe ejecutar\n",
        " end`"
      ],
      "metadata": {
        "nteract": {
          "transient": {
            "deleting": false
          }
        }
      }
    },
    {
      "cell_type": "code",
      "source": [
        "function sayHi(name)\n",
        "    println(\"Hola $name, es un placer verte\")\n",
        "end"
      ],
      "outputs": [
        {
          "output_type": "execute_result",
          "execution_count": 1,
          "data": {
            "text/plain": [
              "sayHi (generic function with 1 method)"
            ]
          },
          "metadata": {}
        }
      ],
      "execution_count": 1,
      "metadata": {
        "collapsed": true,
        "outputExpanded": false,
        "jupyter": {
          "source_hidden": false,
          "outputs_hidden": false
        },
        "nteract": {
          "transient": {
            "deleting": false
          }
        },
        "execution": {
          "iopub.status.busy": "2020-04-21T01:15:59.067Z",
          "iopub.execute_input": "2020-04-21T01:16:01.127Z",
          "iopub.status.idle": "2020-04-21T01:16:03.560Z"
        }
      }
    },
    {
      "cell_type": "code",
      "source": [
        "function f(x)\n",
        "    x^2\n",
        "end"
      ],
      "outputs": [
        {
          "output_type": "execute_result",
          "execution_count": 2,
          "data": {
            "text/plain": [
              "f (generic function with 1 method)"
            ]
          },
          "metadata": {}
        }
      ],
      "execution_count": 2,
      "metadata": {
        "collapsed": true,
        "outputExpanded": false,
        "jupyter": {
          "source_hidden": false,
          "outputs_hidden": false
        },
        "nteract": {
          "transient": {
            "deleting": false
          }
        },
        "execution": {
          "iopub.status.busy": "2020-04-21T01:16:12.273Z",
          "iopub.execute_input": "2020-04-21T01:16:12.277Z",
          "iopub.status.idle": "2020-04-21T01:16:12.417Z"
        }
      }
    },
    {
      "cell_type": "markdown",
      "source": [
        "Podemos invocar o llamar a las funciones anteriormente declaradas de la siguiente forma"
      ],
      "metadata": {
        "nteract": {
          "transient": {
            "deleting": false
          }
        }
      }
    },
    {
      "cell_type": "code",
      "source": [
        "sayHi(\"John Florez\")"
      ],
      "outputs": [
        {
          "output_type": "stream",
          "name": "stdout",
          "text": [
            "Hola John Florez, es un placer verte\n"
          ]
        }
      ],
      "execution_count": 3,
      "metadata": {
        "collapsed": true,
        "outputExpanded": false,
        "jupyter": {
          "source_hidden": false,
          "outputs_hidden": false
        },
        "nteract": {
          "transient": {
            "deleting": false
          }
        },
        "execution": {
          "iopub.status.busy": "2020-04-21T01:17:55.249Z",
          "iopub.execute_input": "2020-04-21T01:17:55.254Z",
          "iopub.status.idle": "2020-04-21T01:17:55.640Z"
        }
      }
    },
    {
      "cell_type": "code",
      "source": [
        "f(42)"
      ],
      "outputs": [
        {
          "output_type": "execute_result",
          "execution_count": 4,
          "data": {
            "text/plain": [
              "1764"
            ]
          },
          "metadata": {}
        }
      ],
      "execution_count": 4,
      "metadata": {
        "collapsed": true,
        "outputExpanded": false,
        "jupyter": {
          "source_hidden": false,
          "outputs_hidden": false
        },
        "nteract": {
          "transient": {
            "deleting": false
          }
        },
        "execution": {
          "iopub.status.busy": "2020-04-21T01:18:16.470Z",
          "iopub.execute_input": "2020-04-21T01:18:16.475Z",
          "iopub.status.idle": "2020-04-21T01:18:16.934Z"
        }
      }
    },
    {
      "cell_type": "markdown",
      "source": [
        "> Ahora, podemos también declarar una función en una simple linea colocando el nombre de la función sus parametros y despues del signo igual anexando la instrucción de código a ejecutar"
      ],
      "metadata": {
        "nteract": {
          "transient": {
            "deleting": false
          }
        }
      }
    },
    {
      "cell_type": "code",
      "source": [
        "sayHiTwo(name) = println(\"Hola $name, es un placer volver a verte por aquí!\")"
      ],
      "outputs": [
        {
          "output_type": "execute_result",
          "execution_count": 5,
          "data": {
            "text/plain": [
              "sayHiTwo (generic function with 1 method)"
            ]
          },
          "metadata": {}
        }
      ],
      "execution_count": 5,
      "metadata": {
        "collapsed": true,
        "outputExpanded": false,
        "jupyter": {
          "source_hidden": false,
          "outputs_hidden": false
        },
        "nteract": {
          "transient": {
            "deleting": false
          }
        },
        "execution": {
          "iopub.status.busy": "2020-04-21T01:20:24.255Z",
          "iopub.execute_input": "2020-04-21T01:20:24.262Z",
          "iopub.status.idle": "2020-04-21T01:20:24.406Z"
        }
      }
    },
    {
      "cell_type": "code",
      "source": [
        "isEven(number) = number % 2 == 0 ? println(\"El número es par\") : println(\"El número es impar\")"
      ],
      "outputs": [
        {
          "output_type": "execute_result",
          "execution_count": 11,
          "data": {
            "text/plain": [
              "isEven (generic function with 1 method)"
            ]
          },
          "metadata": {}
        }
      ],
      "execution_count": 11,
      "metadata": {
        "collapsed": true,
        "outputExpanded": false,
        "jupyter": {
          "source_hidden": false,
          "outputs_hidden": false
        },
        "nteract": {
          "transient": {
            "deleting": false
          }
        },
        "execution": {
          "iopub.status.busy": "2020-04-21T01:22:49.173Z",
          "iopub.execute_input": "2020-04-21T01:22:49.178Z",
          "iopub.status.idle": "2020-04-21T01:22:49.350Z"
        }
      }
    },
    {
      "cell_type": "code",
      "source": [
        "isEven(4)"
      ],
      "outputs": [
        {
          "output_type": "stream",
          "name": "stdout",
          "text": [
            "El número es par\n"
          ]
        }
      ],
      "execution_count": 13,
      "metadata": {
        "collapsed": true,
        "outputExpanded": false,
        "jupyter": {
          "source_hidden": false,
          "outputs_hidden": false
        },
        "nteract": {
          "transient": {
            "deleting": false
          }
        },
        "execution": {
          "iopub.status.busy": "2020-04-21T01:22:58.322Z",
          "iopub.execute_input": "2020-04-21T01:22:58.327Z",
          "iopub.status.idle": "2020-04-21T01:22:58.338Z"
        }
      }
    },
    {
      "cell_type": "markdown",
      "source": [
        "> Finalmente, en Julia podemos declarar funciones __anónimas__ son funciones que no tienen nombre y se puede guardar su resultado en una variable específica"
      ],
      "metadata": {
        "nteract": {
          "transient": {
            "deleting": false
          }
        }
      }
    },
    {
      "cell_type": "code",
      "source": [
        "sayHiThree = name -> println(\"Hola $name, estamos encantados de verte por aquí de nuevo!\")"
      ],
      "outputs": [
        {
          "output_type": "execute_result",
          "execution_count": 18,
          "data": {
            "text/plain": [
              "#11 (generic function with 1 method)"
            ]
          },
          "metadata": {}
        }
      ],
      "execution_count": 18,
      "metadata": {
        "collapsed": true,
        "outputExpanded": false,
        "jupyter": {
          "source_hidden": false,
          "outputs_hidden": false
        },
        "nteract": {
          "transient": {
            "deleting": false
          }
        },
        "execution": {
          "iopub.status.busy": "2020-04-21T01:27:54.517Z",
          "iopub.execute_input": "2020-04-21T01:27:54.526Z",
          "iopub.status.idle": "2020-04-21T01:27:54.708Z"
        }
      }
    },
    {
      "cell_type": "code",
      "source": [
        "f2 = x -> x^2"
      ],
      "outputs": [
        {
          "output_type": "execute_result",
          "execution_count": 19,
          "data": {
            "text/plain": [
              "#13 (generic function with 1 method)"
            ]
          },
          "metadata": {}
        }
      ],
      "execution_count": 19,
      "metadata": {
        "collapsed": true,
        "outputExpanded": false,
        "jupyter": {
          "source_hidden": false,
          "outputs_hidden": false
        },
        "nteract": {
          "transient": {
            "deleting": false
          }
        },
        "execution": {
          "iopub.status.busy": "2020-04-21T01:27:55.417Z",
          "iopub.execute_input": "2020-04-21T01:27:55.423Z",
          "iopub.status.idle": "2020-04-21T01:27:55.563Z"
        }
      }
    },
    {
      "cell_type": "code",
      "source": [
        "sayHiThree(\"Isabella\")"
      ],
      "outputs": [
        {
          "output_type": "stream",
          "name": "stdout",
          "text": [
            "Hola Isabella, estamos encantados de verte por aquí de nuevo!\n"
          ]
        }
      ],
      "execution_count": 20,
      "metadata": {
        "collapsed": true,
        "outputExpanded": false,
        "jupyter": {
          "source_hidden": false,
          "outputs_hidden": false
        },
        "nteract": {
          "transient": {
            "deleting": false
          }
        },
        "execution": {
          "iopub.status.busy": "2020-04-21T01:27:56.347Z",
          "iopub.execute_input": "2020-04-21T01:27:56.351Z",
          "iopub.status.idle": "2020-04-21T01:27:56.363Z"
        }
      }
    },
    {
      "cell_type": "code",
      "source": [
        "f2(2)"
      ],
      "outputs": [
        {
          "output_type": "execute_result",
          "execution_count": 21,
          "data": {
            "text/plain": [
              "4"
            ]
          },
          "metadata": {}
        }
      ],
      "execution_count": 21,
      "metadata": {
        "collapsed": true,
        "outputExpanded": false,
        "jupyter": {
          "source_hidden": false,
          "outputs_hidden": false
        },
        "nteract": {
          "transient": {
            "deleting": false
          }
        },
        "execution": {
          "iopub.status.busy": "2020-04-21T01:28:02.301Z",
          "iopub.execute_input": "2020-04-21T01:28:02.308Z",
          "iopub.status.idle": "2020-04-21T01:28:02.319Z"
        }
      }
    },
    {
      "cell_type": "markdown",
      "source": [
        "# Duck-typing en Julia\n",
        "\n",
        "Las funciones en Julia, solo van a funcionar cuando reciben parámetros de entrada que tengan sentido con lo que la función debe realizar.\n",
        "\n",
        "Por ejemplo, la función __sayHi__ trabaja con el siguiente parámetro que identifica la placa e identidad de un bagón, el cual está escrito como un entero"
      ],
      "metadata": {
        "nteract": {
          "transient": {
            "deleting": false
          }
        }
      }
    },
    {
      "cell_type": "code",
      "source": [
        "sayHi(4973838)"
      ],
      "outputs": [
        {
          "output_type": "stream",
          "name": "stdout",
          "text": [
            "Hola 4973838, es un placer verte\n"
          ]
        }
      ],
      "execution_count": 22,
      "metadata": {
        "collapsed": true,
        "outputExpanded": false,
        "jupyter": {
          "source_hidden": false,
          "outputs_hidden": false
        },
        "nteract": {
          "transient": {
            "deleting": false
          }
        },
        "execution": {
          "iopub.status.busy": "2020-04-21T01:35:53.166Z",
          "iopub.execute_input": "2020-04-21T01:35:53.175Z",
          "iopub.status.idle": "2020-04-21T01:35:53.189Z"
        }
      }
    },
    {
      "cell_type": "markdown",
      "source": [
        "Y __f__ va a trabajar con una matriz"
      ],
      "metadata": {
        "nteract": {
          "transient": {
            "deleting": false
          }
        }
      }
    },
    {
      "cell_type": "code",
      "source": [
        "A = rand(3, 3)\n",
        "A"
      ],
      "outputs": [
        {
          "output_type": "execute_result",
          "execution_count": 26,
          "data": {
            "text/plain": [
              "3×3 Array{Float64,2}:\n",
              " 0.0785263  0.444604  0.277674\n",
              " 0.773153   0.841467  0.140439\n",
              " 0.33743    0.261624  0.421647"
            ]
          },
          "metadata": {}
        }
      ],
      "execution_count": 26,
      "metadata": {
        "collapsed": true,
        "outputExpanded": false,
        "jupyter": {
          "source_hidden": false,
          "outputs_hidden": false
        },
        "nteract": {
          "transient": {
            "deleting": false
          }
        },
        "execution": {
          "iopub.status.busy": "2020-04-21T01:38:05.978Z",
          "iopub.execute_input": "2020-04-21T01:38:05.985Z",
          "iopub.status.idle": "2020-04-21T01:38:06.001Z"
        }
      }
    },
    {
      "cell_type": "code",
      "source": [
        "f(A)"
      ],
      "outputs": [
        {
          "output_type": "execute_result",
          "execution_count": 27,
          "data": {
            "text/plain": [
              "3×3 Array{Float64,2}:\n",
              " 0.443609  0.481678  0.201325\n",
              " 0.758683  1.08855   0.392074\n",
              " 0.371049  0.480483  0.308224"
            ]
          },
          "metadata": {}
        }
      ],
      "execution_count": 27,
      "metadata": {
        "collapsed": true,
        "outputExpanded": false,
        "jupyter": {
          "source_hidden": false,
          "outputs_hidden": false
        },
        "nteract": {
          "transient": {
            "deleting": false
          }
        },
        "execution": {
          "iopub.status.busy": "2020-04-21T01:38:08.151Z",
          "iopub.execute_input": "2020-04-21T01:38:08.156Z",
          "iopub.status.idle": "2020-04-21T01:38:08.173Z"
        }
      }
    },
    {
      "cell_type": "markdown",
      "source": [
        "Por otra parte, __f__ no va a funcionar en un vector. Diferente a __A^2__ el cual se encuentra bien definido a nivel matemático, el significado de __v^2__ para un vector __v__ , es ambiguo"
      ],
      "metadata": {
        "nteract": {
          "transient": {
            "deleting": false
          }
        }
      }
    },
    {
      "cell_type": "code",
      "source": [
        "v = rand(3)"
      ],
      "outputs": [
        {
          "output_type": "execute_result",
          "execution_count": 28,
          "data": {
            "text/plain": [
              "3-element Array{Float64,1}:\n",
              " 0.8627694006557931\n",
              " 0.9753079661768431\n",
              " 0.7819496692083197"
            ]
          },
          "metadata": {}
        }
      ],
      "execution_count": 28,
      "metadata": {
        "collapsed": true,
        "outputExpanded": false,
        "jupyter": {
          "source_hidden": false,
          "outputs_hidden": false
        },
        "nteract": {
          "transient": {
            "deleting": false
          }
        },
        "execution": {
          "iopub.status.busy": "2020-04-21T01:46:26.884Z",
          "iopub.execute_input": "2020-04-21T01:46:26.893Z",
          "iopub.status.idle": "2020-04-21T01:46:28.377Z"
        }
      }
    },
    {
      "cell_type": "code",
      "source": [
        "f(v)"
      ],
      "outputs": [
        {
          "output_type": "error",
          "ename": "MethodError",
          "evalue": "MethodError: no method matching ^(::Array{Float64,1}, ::Int64)\nClosest candidates are:\n  ^(!Matched::Float16, ::Integer) at math.jl:885\n  ^(!Matched::Regex, ::Integer) at regex.jl:712\n  ^(!Matched::Missing, ::Integer) at missing.jl:155\n  ...",
          "traceback": [
            "MethodError: no method matching ^(::Array{Float64,1}, ::Int64)\nClosest candidates are:\n  ^(!Matched::Float16, ::Integer) at math.jl:885\n  ^(!Matched::Regex, ::Integer) at regex.jl:712\n  ^(!Matched::Missing, ::Integer) at missing.jl:155\n  ...",
            "",
            "Stacktrace:",
            " [1] macro expansion at ./none:0 [inlined]",
            " [2] literal_pow at ./none:0 [inlined]",
            " [3] f(::Array{Float64,1}) at ./In[2]:2",
            " [4] top-level scope at In[29]:1"
          ]
        }
      ],
      "execution_count": 29,
      "metadata": {
        "collapsed": true,
        "outputExpanded": false,
        "jupyter": {
          "source_hidden": false,
          "outputs_hidden": false
        },
        "nteract": {
          "transient": {
            "deleting": false
          }
        },
        "execution": {
          "iopub.status.busy": "2020-04-21T01:46:35.960Z",
          "iopub.execute_input": "2020-04-21T01:46:35.969Z",
          "iopub.status.idle": "2020-04-21T01:46:36.345Z"
        }
      }
    },
    {
      "cell_type": "markdown",
      "source": [
        "# Funciones mutantes VS Funciones No Mutantes\n",
        "Por convección, las funciones seguidas por un __!__ alteran sus contenidos, y  aquellas funciones que carecen de __!__ no alteraran su contenido\n",
        "\n",
        "Por ejemplo vamos a hacer uso de la función __sort__ en un contexto donde se use __sort__ y __sort!__"
      ],
      "metadata": {
        "nteract": {
          "transient": {
            "deleting": false
          }
        }
      }
    },
    {
      "cell_type": "code",
      "source": [
        "v = [ 3 , 5, 1 ]"
      ],
      "outputs": [
        {
          "output_type": "execute_result",
          "execution_count": 31,
          "data": {
            "text/plain": [
              "3-element Array{Int64,1}:\n",
              " 3\n",
              " 5\n",
              " 1"
            ]
          },
          "metadata": {}
        }
      ],
      "execution_count": 31,
      "metadata": {
        "collapsed": true,
        "outputExpanded": false,
        "jupyter": {
          "source_hidden": false,
          "outputs_hidden": false
        },
        "nteract": {
          "transient": {
            "deleting": false
          }
        },
        "execution": {
          "iopub.status.busy": "2020-04-21T01:49:48.756Z",
          "iopub.execute_input": "2020-04-21T01:49:48.765Z",
          "iopub.status.idle": "2020-04-21T01:49:48.782Z"
        }
      }
    },
    {
      "cell_type": "code",
      "source": [
        "sort(v)"
      ],
      "outputs": [
        {
          "output_type": "execute_result",
          "execution_count": 32,
          "data": {
            "text/plain": [
              "3-element Array{Int64,1}:\n",
              " 1\n",
              " 3\n",
              " 5"
            ]
          },
          "metadata": {}
        }
      ],
      "execution_count": 32,
      "metadata": {
        "collapsed": true,
        "outputExpanded": false,
        "jupyter": {
          "source_hidden": false,
          "outputs_hidden": false
        },
        "nteract": {
          "transient": {
            "deleting": false
          }
        },
        "execution": {
          "iopub.status.busy": "2020-04-21T01:49:56.451Z",
          "iopub.execute_input": "2020-04-21T01:49:56.464Z",
          "iopub.status.idle": "2020-04-21T01:49:56.483Z"
        }
      }
    },
    {
      "cell_type": "code",
      "source": [
        "v"
      ],
      "outputs": [
        {
          "output_type": "execute_result",
          "execution_count": 33,
          "data": {
            "text/plain": [
              "3-element Array{Int64,1}:\n",
              " 3\n",
              " 5\n",
              " 1"
            ]
          },
          "metadata": {}
        }
      ],
      "execution_count": 33,
      "metadata": {
        "collapsed": true,
        "outputExpanded": false,
        "jupyter": {
          "source_hidden": false,
          "outputs_hidden": false
        },
        "nteract": {
          "transient": {
            "deleting": false
          }
        },
        "execution": {
          "iopub.status.busy": "2020-04-21T01:49:58.850Z",
          "iopub.execute_input": "2020-04-21T01:49:58.863Z",
          "iopub.status.idle": "2020-04-21T01:49:58.881Z"
        }
      }
    },
    {
      "cell_type": "markdown",
      "source": [
        "> __sort__ al ejecutarse ordena los elementos que se encuentran en el vector __v__, pero __v__ se deja sin cambio alguno.\n",
        "\n",
        "Por otra parte cuando corremos __sort!(v)__ nos muestra el vector __v__ ordenado y altera el contenido del vector __v__ dejando ordenados sus elementos. "
      ],
      "metadata": {
        "nteract": {
          "transient": {
            "deleting": false
          }
        }
      }
    },
    {
      "cell_type": "code",
      "source": [
        "sort!(v)"
      ],
      "outputs": [
        {
          "output_type": "execute_result",
          "execution_count": 34,
          "data": {
            "text/plain": [
              "3-element Array{Int64,1}:\n",
              " 1\n",
              " 3\n",
              " 5"
            ]
          },
          "metadata": {}
        }
      ],
      "execution_count": 34,
      "metadata": {
        "collapsed": true,
        "outputExpanded": false,
        "jupyter": {
          "source_hidden": false,
          "outputs_hidden": false
        },
        "nteract": {
          "transient": {
            "deleting": false
          }
        },
        "execution": {
          "iopub.status.busy": "2020-04-21T01:54:46.120Z",
          "iopub.execute_input": "2020-04-21T01:54:46.128Z",
          "iopub.status.idle": "2020-04-21T01:54:46.146Z"
        }
      }
    },
    {
      "cell_type": "code",
      "source": [
        "v"
      ],
      "outputs": [
        {
          "output_type": "execute_result",
          "execution_count": 35,
          "data": {
            "text/plain": [
              "3-element Array{Int64,1}:\n",
              " 1\n",
              " 3\n",
              " 5"
            ]
          },
          "metadata": {}
        }
      ],
      "execution_count": 35,
      "metadata": {
        "collapsed": true,
        "outputExpanded": false,
        "jupyter": {
          "source_hidden": false,
          "outputs_hidden": false
        },
        "nteract": {
          "transient": {
            "deleting": false
          }
        },
        "execution": {
          "iopub.status.busy": "2020-04-21T01:54:48.619Z",
          "iopub.execute_input": "2020-04-21T01:54:48.629Z",
          "iopub.status.idle": "2020-04-21T01:54:48.653Z"
        }
      }
    },
    {
      "cell_type": "markdown",
      "source": [
        "# Broadcasting - Transmisión\n",
        "Cuando colocamos un __`.`__ entre el nombre de cualquier función y su conjunto de argumentos, le decimos a la función que se transmita sobre los elementos en los objetos de entrada\n",
        "\n",
        "Vamos a observar la diferencia del comportamiento entre __f()__ y __f.()__\n",
        "\n",
        "Primero vamos a definir una matriz __A__ para que se pueda evidenciar de forma más facil dicha diferencia"
      ],
      "metadata": {
        "nteract": {
          "transient": {
            "deleting": false
          }
        }
      }
    },
    {
      "cell_type": "code",
      "source": [
        "A =  [i + 3*j for j in 0:2 , i in 1:3]"
      ],
      "outputs": [
        {
          "output_type": "execute_result",
          "execution_count": 36,
          "data": {
            "text/plain": [
              "3×3 Array{Int64,2}:\n",
              " 1  2  3\n",
              " 4  5  6\n",
              " 7  8  9"
            ]
          },
          "metadata": {}
        }
      ],
      "execution_count": 36,
      "metadata": {
        "collapsed": true,
        "outputExpanded": false,
        "jupyter": {
          "source_hidden": false,
          "outputs_hidden": false
        },
        "nteract": {
          "transient": {
            "deleting": false
          }
        },
        "execution": {
          "iopub.status.busy": "2020-04-21T02:02:29.785Z",
          "iopub.execute_input": "2020-04-21T02:02:29.796Z",
          "iopub.status.idle": "2020-04-21T02:02:31.210Z"
        }
      }
    },
    {
      "cell_type": "code",
      "source": [
        "f(A)"
      ],
      "outputs": [
        {
          "output_type": "execute_result",
          "execution_count": 37,
          "data": {
            "text/plain": [
              "3×3 Array{Int64,2}:\n",
              "  30   36   42\n",
              "  66   81   96\n",
              " 102  126  150"
            ]
          },
          "metadata": {}
        }
      ],
      "execution_count": 37,
      "metadata": {
        "collapsed": true,
        "outputExpanded": false,
        "jupyter": {
          "source_hidden": false,
          "outputs_hidden": false
        },
        "nteract": {
          "transient": {
            "deleting": false
          }
        },
        "execution": {
          "iopub.status.busy": "2020-04-21T02:04:37.732Z",
          "iopub.execute_input": "2020-04-21T02:04:37.745Z",
          "iopub.status.idle": "2020-04-21T02:04:39.104Z"
        }
      }
    },
    {
      "cell_type": "markdown",
      "source": [
        "En el resultado anterior vemos una multiplicación matricial, que cumple a nivel matemático la siguiente expresión __f(A) = A^2 = A * A__\n",
        "\n",
        "Por otro lado, cuando se ejecuta __f.(A)__ va a retornar la multiplicación elemento a elemento que obtiene el cuadrado de cada uno de elementos en la posición de la matriz `A[i , j]` teniendo en cuenta cada una de las entradas correspondientes"
      ],
      "metadata": {
        "nteract": {
          "transient": {
            "deleting": false
          }
        }
      }
    },
    {
      "cell_type": "code",
      "source": [
        "B = f.(A)"
      ],
      "outputs": [
        {
          "output_type": "execute_result",
          "execution_count": 38,
          "data": {
            "text/plain": [
              "3×3 Array{Int64,2}:\n",
              "  1   4   9\n",
              " 16  25  36\n",
              " 49  64  81"
            ]
          },
          "metadata": {}
        }
      ],
      "execution_count": 38,
      "metadata": {
        "collapsed": true,
        "outputExpanded": false,
        "jupyter": {
          "source_hidden": false,
          "outputs_hidden": false
        },
        "nteract": {
          "transient": {
            "deleting": false
          }
        },
        "execution": {
          "iopub.status.busy": "2020-04-21T02:08:31.678Z",
          "iopub.execute_input": "2020-04-21T02:08:31.688Z",
          "iopub.status.idle": "2020-04-21T02:08:31.746Z"
        }
      }
    },
    {
      "cell_type": "markdown",
      "source": [
        "> Esto significa que, para el vector __v__ si deseo obtener los cuadrados de cada uno de los ementos que se encuentran en el vector debo usar la función __f.(v)__"
      ],
      "metadata": {
        "nteract": {
          "transient": {
            "deleting": false
          }
        }
      }
    },
    {
      "cell_type": "code",
      "source": [
        "f.(v)"
      ],
      "outputs": [
        {
          "output_type": "execute_result",
          "execution_count": 39,
          "data": {
            "text/plain": [
              "3-element Array{Int64,1}:\n",
              "  1\n",
              "  9\n",
              " 25"
            ]
          },
          "metadata": {}
        }
      ],
      "execution_count": 39,
      "metadata": {
        "collapsed": true,
        "outputExpanded": false,
        "jupyter": {
          "source_hidden": false,
          "outputs_hidden": false
        },
        "nteract": {
          "transient": {
            "deleting": false
          }
        },
        "execution": {
          "iopub.status.busy": "2020-04-21T02:09:59.530Z",
          "iopub.execute_input": "2020-04-21T02:09:59.546Z",
          "iopub.status.idle": "2020-04-21T02:09:59.593Z"
        }
      }
    },
    {
      "cell_type": "code",
      "source": [],
      "outputs": [],
      "execution_count": null,
      "metadata": {
        "collapsed": true,
        "outputExpanded": false,
        "jupyter": {
          "source_hidden": false,
          "outputs_hidden": false
        },
        "nteract": {
          "transient": {
            "deleting": false
          }
        }
      }
    }
  ],
  "metadata": {
    "kernel_info": {
      "name": "julia-1.4"
    },
    "language_info": {
      "file_extension": ".jl",
      "name": "julia",
      "mimetype": "application/julia",
      "version": "1.4.0"
    },
    "kernelspec": {
      "argv": [
        "/Applications/JuliaPro-1.4.0-1.app/Contents/Resources/julia/Contents/Resources/julia/bin/julia",
        "-i",
        "--startup-file=yes",
        "--color=yes",
        "--project=@.",
        "/Users/johnflorez/.juliapro/JuliaPro_v1.4.0-1/packages/IJulia/fRegO/src/kernel.jl",
        "{connection_file}"
      ],
      "display_name": "Julia 1.4.0",
      "env": {},
      "interrupt_mode": "signal",
      "language": "julia",
      "name": "julia-1.4"
    },
    "nteract": {
      "version": "0.22.4"
    }
  },
  "nbformat": 4,
  "nbformat_minor": 0
}