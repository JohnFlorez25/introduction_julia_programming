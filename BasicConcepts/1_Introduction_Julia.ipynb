{
  "cells": [
    {
      "cell_type": "markdown",
      "source": [
        "# Empezando con Julia\n",
        "\n",
        "En este notebook vamos a alojar los conceptos básicos de programación haciendo uso del lenguaje de programación Julia"
      ],
      "metadata": {
        "nteract": {
          "transient": {
            "deleting": false
          }
        }
      }
    },
    {
      "cell_type": "markdown",
      "source": [
        "# Como imprimir en Julia \n",
        "\n",
        "En Julia usualmente se utiliza __println()__ para imprimir"
      ],
      "metadata": {
        "nteract": {
          "transient": {
            "deleting": false
          }
        }
      }
    },
    {
      "cell_type": "code",
      "source": [
        "println(\"Estoy muy emocionado en aprender Julia\")"
      ],
      "outputs": [
        {
          "output_type": "stream",
          "name": "stdout",
          "text": [
            "Estoy muy emocionado en aprender Julia\n"
          ]
        }
      ],
      "execution_count": 4,
      "metadata": {
        "collapsed": true,
        "outputExpanded": false,
        "jupyter": {
          "source_hidden": false,
          "outputs_hidden": false
        },
        "nteract": {
          "transient": {
            "deleting": false
          }
        },
        "execution": {
          "iopub.status.busy": "2020-04-20T04:32:55.138Z",
          "iopub.execute_input": "2020-04-20T04:32:55.141Z",
          "iopub.status.idle": "2020-04-20T04:32:55.146Z"
        }
      }
    },
    {
      "cell_type": "markdown",
      "source": [
        "# Como crear variables en Julia\n",
        "Para crear variables en julia simplemente se declara el  __nombre de la variable__ y se realiza una asignación del __dato a almacenar en memoria__ luego del signo __=__. Si se desea saber el tipo de dato que se ha almacenado en esa variable se puede saber invocando la función __typeof()__"
      ],
      "metadata": {
        "nteract": {
          "transient": {
            "deleting": false
          }
        }
      }
    },
    {
      "cell_type": "code",
      "source": [
        "my_answer = 45\n",
        "println(my_answer)\n",
        "typeof(my_answer)"
      ],
      "outputs": [
        {
          "output_type": "stream",
          "name": "stdout",
          "text": [
            "45\n"
          ]
        },
        {
          "output_type": "execute_result",
          "execution_count": 6,
          "data": {
            "text/plain": [
              "Int64"
            ]
          },
          "metadata": {}
        }
      ],
      "execution_count": 6,
      "metadata": {
        "collapsed": true,
        "outputExpanded": false,
        "jupyter": {
          "source_hidden": false,
          "outputs_hidden": false
        },
        "nteract": {
          "transient": {
            "deleting": false
          }
        },
        "execution": {
          "iopub.status.busy": "2020-04-20T04:38:26.379Z",
          "iopub.execute_input": "2020-04-20T04:38:26.382Z",
          "iopub.status.idle": "2020-04-20T04:38:26.442Z"
        }
      }
    },
    {
      "cell_type": "markdown",
      "source": [
        "# Como hacer comentarios en Julia \n",
        "\n",
        "Para realizar comentarios de código en Julia se hace uso del caracter __#__ y de esta forma se puede crear una sola línea de comentario, ahora, si usted desea crear bloques de comentario, debe empezar con el conjunto de caracteres __#=__ y cerrar con el conjunto de caracteres __=#__, Por ejemplo:"
      ],
      "metadata": {
        "nteract": {
          "transient": {
            "deleting": false
          }
        }
      }
    },
    {
      "cell_type": "code",
      "source": [
        "# Esta es una línea de comentario\n",
        "#=\n",
        "    Este es un bloque de comentario\n",
        "    en el cual se desea dar un ejemplo\n",
        "    de los comentarios de código en Julia\n",
        "=#"
      ],
      "outputs": [],
      "execution_count": 7,
      "metadata": {
        "collapsed": true,
        "outputExpanded": false,
        "jupyter": {
          "source_hidden": false,
          "outputs_hidden": false
        },
        "nteract": {
          "transient": {
            "deleting": false
          }
        },
        "execution": {
          "iopub.status.busy": "2020-04-20T04:43:01.586Z",
          "iopub.execute_input": "2020-04-20T04:43:01.589Z",
          "iopub.status.idle": "2020-04-20T04:43:01.596Z"
        }
      }
    },
    {
      "cell_type": "markdown",
      "source": [
        "# Sintaxis de matematicas básica"
      ],
      "metadata": {
        "nteract": {
          "transient": {
            "deleting": false
          }
        }
      }
    },
    {
      "cell_type": "code",
      "source": [
        "sum = 3 +7"
      ],
      "outputs": [
        {
          "output_type": "execute_result",
          "execution_count": 9,
          "data": {
            "text/plain": [
              "10"
            ]
          },
          "metadata": {}
        }
      ],
      "execution_count": 9,
      "metadata": {
        "collapsed": true,
        "outputExpanded": false,
        "jupyter": {
          "source_hidden": false,
          "outputs_hidden": false
        },
        "nteract": {
          "transient": {
            "deleting": false
          }
        },
        "execution": {
          "iopub.status.busy": "2020-04-20T04:46:45.384Z",
          "iopub.execute_input": "2020-04-20T04:46:45.388Z",
          "iopub.status.idle": "2020-04-20T04:46:45.396Z"
        }
      }
    },
    {
      "cell_type": "code",
      "source": [
        "difference = 10 - 3"
      ],
      "outputs": [
        {
          "output_type": "execute_result",
          "execution_count": 10,
          "data": {
            "text/plain": [
              "7"
            ]
          },
          "metadata": {}
        }
      ],
      "execution_count": 10,
      "metadata": {
        "collapsed": true,
        "outputExpanded": false,
        "jupyter": {
          "source_hidden": false,
          "outputs_hidden": false
        },
        "nteract": {
          "transient": {
            "deleting": false
          }
        },
        "execution": {
          "iopub.status.busy": "2020-04-20T04:47:02.356Z",
          "iopub.execute_input": "2020-04-20T04:47:02.361Z",
          "iopub.status.idle": "2020-04-20T04:47:02.373Z"
        }
      }
    },
    {
      "cell_type": "code",
      "source": [
        "product = 20 * 5"
      ],
      "outputs": [
        {
          "output_type": "execute_result",
          "execution_count": 11,
          "data": {
            "text/plain": [
              "100"
            ]
          },
          "metadata": {}
        }
      ],
      "execution_count": 11,
      "metadata": {
        "collapsed": true,
        "outputExpanded": false,
        "jupyter": {
          "source_hidden": false,
          "outputs_hidden": false
        },
        "nteract": {
          "transient": {
            "deleting": false
          }
        },
        "execution": {
          "iopub.status.busy": "2020-04-20T04:47:17.160Z",
          "iopub.execute_input": "2020-04-20T04:47:17.166Z",
          "iopub.status.idle": "2020-04-20T04:47:17.174Z"
        }
      }
    },
    {
      "cell_type": "code",
      "source": [
        "quotient = 100 / 10"
      ],
      "outputs": [
        {
          "output_type": "execute_result",
          "execution_count": 12,
          "data": {
            "text/plain": [
              "10.0"
            ]
          },
          "metadata": {}
        }
      ],
      "execution_count": 12,
      "metadata": {
        "collapsed": true,
        "outputExpanded": false,
        "jupyter": {
          "source_hidden": false,
          "outputs_hidden": false
        },
        "nteract": {
          "transient": {
            "deleting": false
          }
        },
        "execution": {
          "iopub.status.busy": "2020-04-20T04:47:29.182Z",
          "iopub.execute_input": "2020-04-20T04:47:29.190Z",
          "iopub.status.idle": "2020-04-20T04:47:29.585Z"
        }
      }
    },
    {
      "cell_type": "code",
      "source": [
        "power = 10 ^ 2"
      ],
      "outputs": [
        {
          "output_type": "execute_result",
          "execution_count": 13,
          "data": {
            "text/plain": [
              "100"
            ]
          },
          "metadata": {}
        }
      ],
      "execution_count": 13,
      "metadata": {
        "collapsed": true,
        "outputExpanded": false,
        "jupyter": {
          "source_hidden": false,
          "outputs_hidden": false
        },
        "nteract": {
          "transient": {
            "deleting": false
          }
        },
        "execution": {
          "iopub.status.busy": "2020-04-20T04:47:46.420Z",
          "iopub.execute_input": "2020-04-20T04:47:46.427Z",
          "iopub.status.idle": "2020-04-20T04:47:46.439Z"
        }
      }
    },
    {
      "cell_type": "code",
      "source": [
        "modulus = 100 % 2"
      ],
      "outputs": [
        {
          "output_type": "execute_result",
          "execution_count": 14,
          "data": {
            "text/plain": [
              "0"
            ]
          },
          "metadata": {}
        }
      ],
      "execution_count": 14,
      "metadata": {
        "collapsed": true,
        "outputExpanded": false,
        "jupyter": {
          "source_hidden": false,
          "outputs_hidden": false
        },
        "nteract": {
          "transient": {
            "deleting": false
          }
        },
        "execution": {
          "iopub.status.busy": "2020-04-20T04:47:54.867Z",
          "iopub.execute_input": "2020-04-20T04:47:54.872Z",
          "iopub.status.idle": "2020-04-20T04:47:54.886Z"
        }
      }
    }
  ],
  "metadata": {
    "kernel_info": {
      "name": "julia-1.4"
    },
    "language_info": {
      "file_extension": ".jl",
      "name": "julia",
      "mimetype": "application/julia",
      "version": "1.4.0"
    },
    "kernelspec": {
      "argv": [
        "/Applications/JuliaPro-1.4.0-1.app/Contents/Resources/julia/Contents/Resources/julia/bin/julia",
        "-i",
        "--startup-file=yes",
        "--color=yes",
        "--project=@.",
        "/Users/johnflorez/.juliapro/JuliaPro_v1.4.0-1/packages/IJulia/fRegO/src/kernel.jl",
        "{connection_file}"
      ],
      "display_name": "Julia 1.4.0",
      "env": {},
      "interrupt_mode": "signal",
      "language": "julia",
      "name": "julia-1.4"
    },
    "nteract": {
      "version": "0.22.4"
    }
  },
  "nbformat": 4,
  "nbformat_minor": 0
}