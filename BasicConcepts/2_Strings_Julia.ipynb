{
  "cells": [
    {
      "cell_type": "markdown",
      "source": [
        "# Cadenas de caracteres (Strings) en Julia\n",
        "\n",
        "Los __Strings__ o cadena de caracteres, es la unión de dos o más caracteres por ejemplo, __\"Esta es una cadena de caracteres\"__ al crear variables que van a almacenar Strings, se deben indicar entre comillas dobles `\"  \"` o puedo tener una serie de tres comillas dobles `\"\"\" \"\"\"`"
      ],
      "metadata": {
        "nteract": {
          "transient": {
            "deleting": false
          }
        }
      }
    },
    {
      "cell_type": "code",
      "source": [
        "s1 = \" Hola soy un string \""
      ],
      "outputs": [
        {
          "output_type": "execute_result",
          "execution_count": 3,
          "data": {
            "text/plain": [
              "\" Hola soy un string \""
            ]
          },
          "metadata": {}
        }
      ],
      "execution_count": 3,
      "metadata": {
        "collapsed": true,
        "outputExpanded": false,
        "jupyter": {
          "source_hidden": false,
          "outputs_hidden": false
        },
        "nteract": {
          "transient": {
            "deleting": false
          }
        },
        "execution": {
          "iopub.status.busy": "2020-04-20T06:35:11.363Z",
          "iopub.execute_input": "2020-04-20T06:35:11.369Z",
          "iopub.status.idle": "2020-04-20T06:35:11.384Z"
        }
      }
    },
    {
      "cell_type": "code",
      "source": [
        "typeof(s1)"
      ],
      "outputs": [
        {
          "output_type": "execute_result",
          "execution_count": 4,
          "data": {
            "text/plain": [
              "String"
            ]
          },
          "metadata": {}
        }
      ],
      "execution_count": 4,
      "metadata": {
        "collapsed": true,
        "outputExpanded": false,
        "jupyter": {
          "source_hidden": false,
          "outputs_hidden": false
        },
        "nteract": {
          "transient": {
            "deleting": false
          }
        },
        "execution": {
          "iopub.status.busy": "2020-04-20T06:35:12.642Z",
          "iopub.execute_input": "2020-04-20T06:35:12.656Z",
          "iopub.status.idle": "2020-04-20T06:35:13.284Z"
        }
      }
    },
    {
      "cell_type": "code",
      "source": [
        "s2=\"\"\"hola soy otro string\"\"\""
      ],
      "outputs": [
        {
          "output_type": "execute_result",
          "execution_count": 2,
          "data": {
            "text/plain": [
              "\"hola soy otro string\""
            ]
          },
          "metadata": {}
        }
      ],
      "execution_count": 2,
      "metadata": {
        "collapsed": true,
        "outputExpanded": false,
        "jupyter": {
          "source_hidden": false,
          "outputs_hidden": false
        },
        "nteract": {
          "transient": {
            "deleting": false
          }
        },
        "execution": {
          "iopub.status.busy": "2020-04-20T06:35:07.383Z",
          "iopub.execute_input": "2020-04-20T06:35:07.391Z",
          "iopub.status.idle": "2020-04-20T06:35:08.564Z"
        }
      }
    },
    {
      "cell_type": "code",
      "source": [
        "typeof(s2)"
      ],
      "outputs": [
        {
          "output_type": "execute_result",
          "execution_count": 5,
          "data": {
            "text/plain": [
              "String"
            ]
          },
          "metadata": {}
        }
      ],
      "execution_count": 5,
      "metadata": {
        "collapsed": true,
        "outputExpanded": false,
        "jupyter": {
          "source_hidden": false,
          "outputs_hidden": false
        },
        "nteract": {
          "transient": {
            "deleting": false
          }
        },
        "execution": {
          "iopub.status.busy": "2020-04-20T06:35:23.182Z",
          "iopub.execute_input": "2020-04-20T06:35:23.189Z",
          "iopub.status.idle": "2020-04-20T06:35:23.211Z"
        }
      }
    },
    {
      "cell_type": "markdown",
      "source": [
        "> Es muy importante tener en cuenta que al usar dobles comillas internas o varias dobles comillas pueden generar un error, por ejemplo:"
      ],
      "metadata": {
        "nteract": {
          "transient": {
            "deleting": false
          }
        }
      }
    },
    {
      "cell_type": "code",
      "source": [
        "\"\"Esto es un string que esta mal formado\"\""
      ],
      "outputs": [
        {
          "output_type": "error",
          "ename": "LoadError",
          "evalue": "syntax: cannot juxtapose string literal",
          "traceback": [
            "syntax: cannot juxtapose string literal",
            ""
          ]
        }
      ],
      "execution_count": 3,
      "metadata": {
        "collapsed": true,
        "outputExpanded": false,
        "jupyter": {
          "source_hidden": false,
          "outputs_hidden": false
        },
        "nteract": {
          "transient": {
            "deleting": false
          }
        },
        "execution": {
          "iopub.status.busy": "2020-04-20T04:59:26.953Z",
          "iopub.execute_input": "2020-04-20T04:59:26.956Z",
          "iopub.status.idle": "2020-04-20T04:59:27.519Z"
        }
      }
    },
    {
      "cell_type": "code",
      "source": [
        "\"Este es un string, que internamente tiene otro string \"hola string\" y está mal formado\""
      ],
      "outputs": [
        {
          "output_type": "error",
          "ename": "LoadError",
          "evalue": "syntax: cannot juxtapose string literal",
          "traceback": [
            "syntax: cannot juxtapose string literal",
            ""
          ]
        }
      ],
      "execution_count": 4,
      "metadata": {
        "collapsed": true,
        "outputExpanded": false,
        "jupyter": {
          "source_hidden": false,
          "outputs_hidden": false
        },
        "nteract": {
          "transient": {
            "deleting": false
          }
        },
        "execution": {
          "iopub.status.busy": "2020-04-20T04:59:48.130Z",
          "iopub.execute_input": "2020-04-20T04:59:48.135Z",
          "iopub.status.idle": "2020-04-20T04:59:48.148Z"
        }
      }
    },
    {
      "cell_type": "markdown",
      "source": [
        "Hay que tener en cuenta que el tipo de dato cambia, cuando tenemos un __único caracter__ encapsulado en __comillas simples__ y su tipo de dato es __Char__"
      ],
      "metadata": {
        "nteract": {
          "transient": {
            "deleting": false
          }
        }
      }
    },
    {
      "cell_type": "code",
      "source": [
        "typeof('a')\n",
        "caracter = 'b'\n",
        "typeof(caracter)"
      ],
      "outputs": [
        {
          "output_type": "execute_result",
          "execution_count": 6,
          "data": {
            "text/plain": [
              "Char"
            ]
          },
          "metadata": {}
        }
      ],
      "execution_count": 6,
      "metadata": {
        "collapsed": true,
        "outputExpanded": false,
        "jupyter": {
          "source_hidden": false,
          "outputs_hidden": false
        },
        "nteract": {
          "transient": {
            "deleting": false
          }
        },
        "execution": {
          "iopub.status.busy": "2020-04-20T05:02:41.344Z",
          "iopub.execute_input": "2020-04-20T05:02:41.350Z",
          "iopub.status.idle": "2020-04-20T05:02:41.474Z"
        }
      }
    },
    {
      "cell_type": "markdown",
      "source": [
        "# Interporlación de Cadenas de caracteres - String  Interpolation\n",
        "Podemos usar el signo de pesos __$__ cuando queremos insertar variables en una cadena de caracteres, en el siguiente ejemplo vamos a mostrar información detallada de una persona"
      ],
      "metadata": {
        "nteract": {
          "transient": {
            "deleting": false
          }
        }
      }
    },
    {
      "cell_type": "code",
      "source": [
        "name = \"John Florez\"\n",
        "num_fingers = 10\n",
        "num_toes = 10\n",
        "println(\"Hola mi nombre es $name\")\n",
        "println(\"Y tengo $num_fingers dedos en la mano y tengo $num_toes dedos en los pies\")\n",
        "println(\"Esto quiere decir que de $name podemos obtener $(num_fingers + num_toes) huellas dáctilares\")"
      ],
      "outputs": [
        {
          "output_type": "stream",
          "name": "stdout",
          "text": [
            "Hola mi nombre es John Florez\n",
            "Y tengo 10 dedos en la mano y tengo 10 dedos en los pies\n",
            "Esto quiere decir que de John Florez podemos obtener 20 huellas dáctilares\n"
          ]
        }
      ],
      "execution_count": 8,
      "metadata": {
        "collapsed": true,
        "outputExpanded": false,
        "jupyter": {
          "source_hidden": false,
          "outputs_hidden": false
        },
        "nteract": {
          "transient": {
            "deleting": false
          }
        },
        "execution": {
          "iopub.status.busy": "2020-04-20T05:12:34.980Z",
          "iopub.execute_input": "2020-04-20T05:12:34.984Z",
          "iopub.status.idle": "2020-04-20T05:12:34.991Z"
        }
      }
    },
    {
      "cell_type": "markdown",
      "source": [
        "# Concatenación de Cadenas de caracteres - String Concatenation\n",
        "Muchas veces a nivel de programación necesitamos unir caracteres con otros caracteres, donde estos, por lo general, están almacenados en distintas variables, existen __tres__ formas de concatenar variables en Julia"
      ],
      "metadata": {
        "nteract": {
          "transient": {
            "deleting": false
          }
        }
      }
    },
    {
      "cell_type": "markdown",
      "source": [
        "## Función string()\n",
        "Se puede usarla función __string()__ para concatenar varios caracteres, esta función convierte en strings aquellas entradas que no sean strings, por ejemplo:"
      ],
      "metadata": {
        "nteract": {
          "transient": {
            "deleting": false
          }
        }
      }
    },
    {
      "cell_type": "code",
      "source": [
        "woman = \"Elizabeth\"\n",
        "cats = 10\n",
        "string(\"La mujer $woman tiene \" , \"$cats gatos\")"
      ],
      "outputs": [
        {
          "output_type": "execute_result",
          "execution_count": 9,
          "data": {
            "text/plain": [
              "\"La mujer Elizabeth tiene 10 gatos\""
            ]
          },
          "metadata": {}
        }
      ],
      "execution_count": 9,
      "metadata": {
        "collapsed": true,
        "outputExpanded": false,
        "jupyter": {
          "source_hidden": false,
          "outputs_hidden": false
        },
        "nteract": {
          "transient": {
            "deleting": false
          }
        },
        "execution": {
          "iopub.status.busy": "2020-04-20T05:17:16.751Z",
          "iopub.execute_input": "2020-04-20T05:17:16.755Z",
          "iopub.status.idle": "2020-04-20T05:17:16.767Z"
        }
      }
    },
    {
      "cell_type": "markdown",
      "source": [
        "## Usando el signo por *\n",
        "Podemos contatenar dos o más caracteres haciendo uso del signo *"
      ],
      "metadata": {
        "nteract": {
          "transient": {
            "deleting": false
          }
        }
      }
    },
    {
      "cell_type": "code",
      "source": [
        "\"La mujer \"*woman"
      ],
      "outputs": [
        {
          "output_type": "execute_result",
          "execution_count": 11,
          "data": {
            "text/plain": [
              "\"La mujer Elizabeth\""
            ]
          },
          "metadata": {}
        }
      ],
      "execution_count": 11,
      "metadata": {
        "collapsed": true,
        "outputExpanded": false,
        "jupyter": {
          "source_hidden": false,
          "outputs_hidden": false
        },
        "nteract": {
          "transient": {
            "deleting": false
          }
        },
        "execution": {
          "iopub.status.busy": "2020-04-20T05:20:34.810Z",
          "iopub.execute_input": "2020-04-20T05:20:34.814Z",
          "iopub.status.idle": "2020-04-20T05:20:34.824Z"
        }
      }
    },
    {
      "cell_type": "markdown",
      "source": [
        "## Realizando interpolación de Strings\n",
        "De igual forma como vimos en la interpolación de cadenas de caracteres puedo unir dos o más caracteres haciendo uso del singo __$__"
      ],
      "metadata": {
        "nteract": {
          "transient": {
            "deleting": false
          }
        }
      }
    },
    {
      "cell_type": "code",
      "source": [
        "\"$woman\"*\" es una mujer \"*\"que tiene $cats\"*\" gatos\""
      ],
      "outputs": [
        {
          "output_type": "execute_result",
          "execution_count": 13,
          "data": {
            "text/plain": [
              "\"Elizabeth es una mujer que tiene 10 gatos\""
            ]
          },
          "metadata": {}
        }
      ],
      "execution_count": 13,
      "metadata": {
        "collapsed": true,
        "outputExpanded": false,
        "jupyter": {
          "source_hidden": false,
          "outputs_hidden": false
        },
        "nteract": {
          "transient": {
            "deleting": false
          }
        },
        "execution": {
          "iopub.status.busy": "2020-04-20T05:22:40.085Z",
          "iopub.execute_input": "2020-04-20T05:22:40.090Z",
          "iopub.status.idle": "2020-04-20T05:22:40.101Z"
        }
      }
    },
    {
      "cell_type": "code",
      "source": [
        "\"$woman $cats\""
      ],
      "outputs": [
        {
          "output_type": "execute_result",
          "execution_count": 14,
          "data": {
            "text/plain": [
              "\"Elizabeth 10\""
            ]
          },
          "metadata": {}
        }
      ],
      "execution_count": 14,
      "metadata": {
        "collapsed": true,
        "outputExpanded": false,
        "jupyter": {
          "source_hidden": false,
          "outputs_hidden": false
        },
        "nteract": {
          "transient": {
            "deleting": false
          }
        },
        "execution": {
          "iopub.status.busy": "2020-04-20T05:23:03.714Z",
          "iopub.execute_input": "2020-04-20T05:23:03.719Z",
          "iopub.status.idle": "2020-04-20T05:23:03.732Z"
        }
      }
    }
  ],
  "metadata": {
    "kernel_info": {
      "name": "julia-1.4"
    },
    "language_info": {
      "file_extension": ".jl",
      "name": "julia",
      "mimetype": "application/julia",
      "version": "1.4.0"
    },
    "kernelspec": {
      "argv": [
        "/Applications/JuliaPro-1.4.0-1.app/Contents/Resources/julia/Contents/Resources/julia/bin/julia",
        "-i",
        "--startup-file=yes",
        "--color=yes",
        "--project=@.",
        "/Users/johnflorez/.juliapro/JuliaPro_v1.4.0-1/packages/IJulia/fRegO/src/kernel.jl",
        "{connection_file}"
      ],
      "display_name": "Julia 1.4.0",
      "env": {},
      "interrupt_mode": "signal",
      "language": "julia",
      "name": "julia-1.4"
    },
    "nteract": {
      "version": "0.22.4"
    }
  },
  "nbformat": 4,
  "nbformat_minor": 0
}