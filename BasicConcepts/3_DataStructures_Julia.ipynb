{
  "cells": [
    {
      "cell_type": "markdown",
      "source": [
        "# Estructuras de datos en Julia\n",
        "Cuando empezamos a trabajar con multiples variables o varias piezas de datos, empezamos a identificar en que podríamos __agrupar__ o __clasificar__ estás variables ya que tienen un sentido común o interpretar como un __conjunto de datos específico__, teniendo en cuenta esto es importante guardar o alojar estos datos en __estructuras__ como los __arrays (Arreglos => unidimensionales, bidimensionales o multidimensionales )__ o los __diccionarios__ de esta forma no tendriamos muchas variables decentralizadas, sino que en un conjunto de datos coherente a nuestras necesidades podamos agrupar varias variables.\n",
        "Vamos a trabajar con las siguientes estructuras de datos:\n",
        "- Dictionaries\n",
        "- Tuples\n",
        "- Arrays"
      ],
      "metadata": {
        "nteract": {
          "transient": {
            "deleting": false
          }
        }
      }
    },
    {
      "cell_type": "markdown",
      "source": [
        "> Las Tuplas (__Tuples__) y los Arreglos (__Arrays__) tienen una secuencia de __elementos ordenados__ lo que quiere decir, que los podemos __indexar__ "
      ],
      "metadata": {
        "nteract": {
          "transient": {
            "deleting": false
          }
        }
      }
    },
    {
      "cell_type": "markdown",
      "source": [
        "> Los Diccionarios (__Dictionaries__) y los Arreglos (__Arrays__) son __mutables__ , la mutabilidad es un concepto muy importante dentro del mundo de la programación, en sencillas palabras un elemento o conjunto de elementos es mutable **cuando pueden cambiar, modificar, o alterar su estado, o la información que esta almacenada en dicho elemento o conjunto de elementos**"
      ],
      "metadata": {
        "nteract": {
          "transient": {
            "deleting": false
          }
        }
      }
    },
    {
      "cell_type": "markdown",
      "source": [
        "## Diccionarios (Dictionaries)\n",
        "Si se  tienen un conjunto de datos donde tienen relación uno a otro, podemos considerar almacenar estos datos en un diccionario. Un excelente ejemplo sería una lista de contactos, donde nosotros asociamos el nombre de una persona y/o empresa con su número telefonico"
      ],
      "metadata": {
        "nteract": {
          "transient": {
            "deleting": false
          }
        }
      }
    },
    {
      "cell_type": "code",
      "source": [
        "myPhoneBook = Dict(\"Elizabeth\" => \"321-879-00-44\" , \"John\" => \"319-435-11-23\" , \"Isabella\" => \"312-890-56-78\")"
      ],
      "outputs": [
        {
          "output_type": "execute_result",
          "execution_count": 3,
          "data": {
            "text/plain": [
              "Dict{String,String} with 3 entries:\n",
              "  \"John\"      => \"319-435-11-23\"\n",
              "  \"Elizabeth\" => \"321-879-00-44\"\n",
              "  \"Isabella\"  => \"312-890-56-78\""
            ]
          },
          "metadata": {}
        }
      ],
      "execution_count": 3,
      "metadata": {
        "collapsed": true,
        "outputExpanded": false,
        "jupyter": {
          "source_hidden": false,
          "outputs_hidden": false
        },
        "nteract": {
          "transient": {
            "deleting": false
          }
        },
        "execution": {
          "iopub.status.busy": "2020-04-20T05:47:11.421Z",
          "iopub.execute_input": "2020-04-20T05:47:11.424Z",
          "iopub.status.idle": "2020-04-20T05:47:11.432Z"
        }
      }
    },
    {
      "cell_type": "markdown",
      "source": [
        "Si posteriormente deseamos agregar más elementos en un diccionario lo podemos realizar, debe usted identificar que para crear los diccionarios existen dos partes, la primera se conoce como __key__ que es el identificador o nombre de la variable y la segunda es el __value__ que sería el valor asociado a esa variable, si quisieramos ver el valor que se encuentra en la __key__ John debemos ejecutar la siguiente instrucción"
      ],
      "metadata": {
        "nteract": {
          "transient": {
            "deleting": false
          }
        }
      }
    },
    {
      "cell_type": "code",
      "source": [
        "myPhoneBook[\"John\"]"
      ],
      "outputs": [
        {
          "output_type": "execute_result",
          "execution_count": 6,
          "data": {
            "text/plain": [
              "\"319-435-11-23\""
            ]
          },
          "metadata": {}
        }
      ],
      "execution_count": 6,
      "metadata": {
        "collapsed": true,
        "outputExpanded": false,
        "jupyter": {
          "source_hidden": false,
          "outputs_hidden": false
        },
        "nteract": {
          "transient": {
            "deleting": false
          }
        },
        "execution": {
          "iopub.status.busy": "2020-04-20T05:47:57.650Z",
          "iopub.execute_input": "2020-04-20T05:47:57.653Z",
          "iopub.status.idle": "2020-04-20T05:47:57.659Z"
        }
      }
    },
    {
      "cell_type": "markdown",
      "source": [
        "Ahora, si deseamos almacenar un nuevo elemento en nuestro diccionario, debemos crear una nueva __key__ con su respectivo __value__ , pero en este caso se hace uso del signo __=__"
      ],
      "metadata": {
        "nteract": {
          "transient": {
            "deleting": false
          }
        }
      }
    },
    {
      "cell_type": "code",
      "source": [
        "myPhoneBook[\"Faber\"] = \"313-512-23-23\""
      ],
      "outputs": [
        {
          "output_type": "execute_result",
          "execution_count": 7,
          "data": {
            "text/plain": [
              "\"313-512-23-23\""
            ]
          },
          "metadata": {}
        }
      ],
      "execution_count": 7,
      "metadata": {
        "collapsed": true,
        "outputExpanded": false,
        "jupyter": {
          "source_hidden": false,
          "outputs_hidden": false
        },
        "nteract": {
          "transient": {
            "deleting": false
          }
        },
        "execution": {
          "iopub.status.busy": "2020-04-20T05:49:37.885Z",
          "iopub.execute_input": "2020-04-20T05:49:37.889Z",
          "iopub.status.idle": "2020-04-20T05:49:37.919Z"
        }
      }
    },
    {
      "cell_type": "markdown",
      "source": [
        "Observemos el estado actual de nuestro diccionario __myPhoneBook__"
      ],
      "metadata": {
        "nteract": {
          "transient": {
            "deleting": false
          }
        }
      }
    },
    {
      "cell_type": "code",
      "source": [
        "myPhoneBook"
      ],
      "outputs": [
        {
          "output_type": "execute_result",
          "execution_count": 10,
          "data": {
            "text/plain": [
              "Dict{String,String} with 4 entries:\n",
              "  \"John\"      => \"319-435-11-23\"\n",
              "  \"Faber\"     => \"313-512-23-23\"\n",
              "  \"Elizabeth\" => \"321-879-00-44\"\n",
              "  \"Isabella\"  => \"312-890-56-78\""
            ]
          },
          "metadata": {}
        }
      ],
      "execution_count": 10,
      "metadata": {
        "collapsed": true,
        "outputExpanded": false,
        "jupyter": {
          "source_hidden": false,
          "outputs_hidden": false
        },
        "nteract": {
          "transient": {
            "deleting": false
          }
        },
        "execution": {
          "iopub.status.busy": "2020-04-20T05:51:09.309Z",
          "iopub.execute_input": "2020-04-20T05:51:09.313Z",
          "iopub.status.idle": "2020-04-20T05:51:09.321Z"
        }
      }
    },
    {
      "cell_type": "markdown",
      "source": [
        "De igual forma yo podría obtener el número de Elizabeth, y de forma simultanea eliminar este registro de mi lista de contactos - lo cual se puede realizar haciendo uso de __pop!__"
      ],
      "metadata": {
        "nteract": {
          "transient": {
            "deleting": false
          }
        }
      }
    },
    {
      "cell_type": "code",
      "source": [
        "pop!(myPhoneBook, \"Elizabeth\")"
      ],
      "outputs": [
        {
          "output_type": "execute_result",
          "execution_count": 11,
          "data": {
            "text/plain": [
              "\"321-879-00-44\""
            ]
          },
          "metadata": {}
        }
      ],
      "execution_count": 11,
      "metadata": {
        "collapsed": true,
        "outputExpanded": false,
        "jupyter": {
          "source_hidden": false,
          "outputs_hidden": false
        },
        "nteract": {
          "transient": {
            "deleting": false
          }
        },
        "execution": {
          "iopub.status.busy": "2020-04-20T05:53:49.605Z",
          "iopub.execute_input": "2020-04-20T05:53:49.610Z",
          "iopub.status.idle": "2020-04-20T05:53:49.622Z"
        }
      }
    },
    {
      "cell_type": "markdown",
      "source": [
        "Observemos el estado actual de nuestro diccionario __myPhoneBook__"
      ],
      "metadata": {
        "nteract": {
          "transient": {
            "deleting": false
          }
        }
      }
    },
    {
      "cell_type": "code",
      "source": [
        "myPhoneBook"
      ],
      "outputs": [
        {
          "output_type": "execute_result",
          "execution_count": 12,
          "data": {
            "text/plain": [
              "Dict{String,String} with 3 entries:\n",
              "  \"John\"     => \"319-435-11-23\"\n",
              "  \"Faber\"    => \"313-512-23-23\"\n",
              "  \"Isabella\" => \"312-890-56-78\""
            ]
          },
          "metadata": {}
        }
      ],
      "execution_count": 12,
      "metadata": {
        "collapsed": true,
        "outputExpanded": false,
        "jupyter": {
          "source_hidden": false,
          "outputs_hidden": false
        },
        "nteract": {
          "transient": {
            "deleting": false
          }
        },
        "execution": {
          "iopub.status.busy": "2020-04-20T05:54:07.058Z",
          "iopub.execute_input": "2020-04-20T05:54:07.065Z",
          "iopub.status.idle": "2020-04-20T05:54:07.075Z"
        }
      }
    },
    {
      "cell_type": "markdown",
      "source": [
        "> Recordemos que a diferencia de las Tuplas y los Arreglos, los Diccionarios no se pueden indexar ya que estos no son ordenados, entonces, al ejecutar la siguiente línea de código obtendríamos un error."
      ],
      "metadata": {
        "nteract": {
          "transient": {
            "deleting": false
          }
        }
      }
    },
    {
      "cell_type": "code",
      "source": [
        "myPhoneBook[1]"
      ],
      "outputs": [
        {
          "output_type": "error",
          "ename": "KeyError",
          "evalue": "KeyError: key 1 not found",
          "traceback": [
            "KeyError: key 1 not found",
            "",
            "Stacktrace:",
            " [1] getindex(::Dict{String,String}, ::Int64) at ./dict.jl:477",
            " [2] top-level scope at In[13]:1"
          ]
        }
      ],
      "execution_count": 13,
      "metadata": {
        "collapsed": true,
        "outputExpanded": false,
        "jupyter": {
          "source_hidden": false,
          "outputs_hidden": false
        },
        "nteract": {
          "transient": {
            "deleting": false
          }
        },
        "execution": {
          "iopub.status.busy": "2020-04-20T05:56:05.278Z",
          "iopub.execute_input": "2020-04-20T05:56:05.286Z",
          "iopub.status.idle": "2020-04-20T05:56:05.356Z"
        }
      }
    },
    {
      "cell_type": "markdown",
      "source": [
        "## Tuplas\n",
        "Podemos crear Tuplas (__Tuples__) agrupando un conjunto de datos ordenados dentro de dos parentesis __(  )__"
      ],
      "metadata": {
        "nteract": {
          "transient": {
            "deleting": false
          }
        }
      }
    },
    {
      "cell_type": "code",
      "source": [
        "myFavoritesAnimals = (\"pingüino\", \"caballo\", \"ballena\")"
      ],
      "outputs": [
        {
          "output_type": "execute_result",
          "execution_count": 14,
          "data": {
            "text/plain": [
              "(\"pingüino\", \"caballo\", \"ballena\")"
            ]
          },
          "metadata": {}
        }
      ],
      "execution_count": 14,
      "metadata": {
        "collapsed": true,
        "outputExpanded": false,
        "jupyter": {
          "source_hidden": false,
          "outputs_hidden": false
        },
        "nteract": {
          "transient": {
            "deleting": false
          }
        },
        "execution": {
          "iopub.status.busy": "2020-04-20T06:00:14.406Z",
          "iopub.execute_input": "2020-04-20T06:00:14.412Z",
          "iopub.status.idle": "2020-04-20T06:00:15.400Z"
        }
      }
    },
    {
      "cell_type": "markdown",
      "source": [
        "Ahora, si deseo indexar o obtener elemento que se encuentra en la posición 1, puede ejecutar la siguiente línea de código"
      ],
      "metadata": {
        "nteract": {
          "transient": {
            "deleting": false
          }
        }
      }
    },
    {
      "cell_type": "code",
      "source": [
        "myFavoritesAnimals[1]"
      ],
      "outputs": [
        {
          "output_type": "execute_result",
          "execution_count": 18,
          "data": {
            "text/plain": [
              "\"pingüino\""
            ]
          },
          "metadata": {}
        }
      ],
      "execution_count": 18,
      "metadata": {
        "collapsed": true,
        "outputExpanded": false,
        "jupyter": {
          "source_hidden": false,
          "outputs_hidden": false
        },
        "nteract": {
          "transient": {
            "deleting": false
          }
        },
        "execution": {
          "iopub.status.busy": "2020-04-20T06:01:31.765Z",
          "iopub.execute_input": "2020-04-20T06:01:31.772Z",
          "iopub.status.idle": "2020-04-20T06:01:31.782Z"
        }
      }
    },
    {
      "cell_type": "markdown",
      "source": [
        "Pero, las Tuplas son __inmutables__, por lo cual, si yo quisiera actualizar el valor que se encuentra en X posición no lo puedo realizar y me va a arrojar un error."
      ],
      "metadata": {
        "nteract": {
          "transient": {
            "deleting": false
          }
        }
      }
    },
    {
      "cell_type": "code",
      "source": [
        "myFavoritesAnimals[1] = \"perro\""
      ],
      "outputs": [
        {
          "output_type": "error",
          "ename": "MethodError",
          "evalue": "MethodError: no method matching setindex!(::Tuple{String,String,String}, ::String, ::Int64)",
          "traceback": [
            "MethodError: no method matching setindex!(::Tuple{String,String,String}, ::String, ::Int64)",
            "",
            "Stacktrace:",
            " [1] top-level scope at In[19]:1"
          ]
        }
      ],
      "execution_count": 19,
      "metadata": {
        "collapsed": true,
        "outputExpanded": false,
        "jupyter": {
          "source_hidden": false,
          "outputs_hidden": false
        },
        "nteract": {
          "transient": {
            "deleting": false
          }
        },
        "execution": {
          "iopub.status.busy": "2020-04-20T06:02:40.171Z",
          "iopub.execute_input": "2020-04-20T06:02:40.180Z",
          "iopub.status.idle": "2020-04-20T06:02:40.268Z"
        }
      }
    },
    {
      "cell_type": "markdown",
      "source": [
        "## Arreglos\n",
        "Los __Arrays__ a diferencia de las __Tuples__ son mutables y a diferencia de los __Dictionaries__, los __Arrays__ contienen un conjunto de datos ordenados.\n",
        "Se pueden crear __Arrays__ agrupoando un conjunto de datos ordenados dentro de dos corchetes ``[]``"
      ],
      "metadata": {
        "nteract": {
          "transient": {
            "deleting": false
          }
        }
      }
    },
    {
      "cell_type": "code",
      "source": [
        "myFriends = [ \"Juan\", \"Alirio\", \"Libardo\", \"Oscar\"]"
      ],
      "outputs": [
        {
          "output_type": "execute_result",
          "execution_count": 21,
          "data": {
            "text/plain": [
              "4-element Array{String,1}:\n",
              " \"Juan\"\n",
              " \"Alirio\"\n",
              " \"Libardo\"\n",
              " \"Oscar\""
            ]
          },
          "metadata": {}
        }
      ],
      "execution_count": 21,
      "metadata": {
        "collapsed": true,
        "outputExpanded": false,
        "jupyter": {
          "source_hidden": false,
          "outputs_hidden": false
        },
        "nteract": {
          "transient": {
            "deleting": false
          }
        },
        "execution": {
          "iopub.status.busy": "2020-04-20T06:11:36.700Z",
          "iopub.execute_input": "2020-04-20T06:11:36.708Z",
          "iopub.status.idle": "2020-04-20T06:11:38.144Z"
        }
      }
    },
    {
      "cell_type": "markdown",
      "source": [
        "Puedo almacenar una secuencia de números"
      ],
      "metadata": {
        "nteract": {
          "transient": {
            "deleting": false
          }
        }
      }
    },
    {
      "cell_type": "code",
      "source": [
        "fibonacci= [1, 1, 2, 3, 5, 8, 13]"
      ],
      "outputs": [
        {
          "output_type": "execute_result",
          "execution_count": 22,
          "data": {
            "text/plain": [
              "7-element Array{Int64,1}:\n",
              "  1\n",
              "  1\n",
              "  2\n",
              "  3\n",
              "  5\n",
              "  8\n",
              " 13"
            ]
          },
          "metadata": {}
        }
      ],
      "execution_count": 22,
      "metadata": {
        "collapsed": true,
        "outputExpanded": false,
        "jupyter": {
          "source_hidden": false,
          "outputs_hidden": false
        },
        "nteract": {
          "transient": {
            "deleting": false
          }
        },
        "execution": {
          "iopub.status.busy": "2020-04-20T06:12:20.780Z",
          "iopub.execute_input": "2020-04-20T06:12:20.788Z",
          "iopub.status.idle": "2020-04-20T06:12:21.973Z"
        }
      }
    },
    {
      "cell_type": "markdown",
      "source": [
        "O puedo tener un __array__ con distintos tipos de elementos "
      ],
      "metadata": {
        "nteract": {
          "transient": {
            "deleting": false
          }
        }
      }
    },
    {
      "cell_type": "code",
      "source": [
        "mix = [5, 3.0, true, \"hola hola\"]"
      ],
      "outputs": [
        {
          "output_type": "execute_result",
          "execution_count": 24,
          "data": {
            "text/plain": [
              "4-element Array{Any,1}:\n",
              "    5\n",
              "    3.0\n",
              " true\n",
              "     \"hola hola\""
            ]
          },
          "metadata": {}
        }
      ],
      "execution_count": 24,
      "metadata": {
        "collapsed": true,
        "outputExpanded": false,
        "jupyter": {
          "source_hidden": false,
          "outputs_hidden": false
        },
        "nteract": {
          "transient": {
            "deleting": false
          }
        },
        "execution": {
          "iopub.status.busy": "2020-04-20T06:14:29.270Z",
          "iopub.execute_input": "2020-04-20T06:14:29.276Z",
          "iopub.status.idle": "2020-04-20T06:14:29.292Z"
        }
      }
    },
    {
      "cell_type": "markdown",
      "source": [
        "Una vez que tenemos declarado e inicializado nuestro arreglo, podemos obtener piezas individuales del array según su indexación. Por ejemplo, si deseo obtener el nombre que se encuentra en la tercera posición de mi arreglo ``myFriends`` debo ejecutar la siguiente línea de código"
      ],
      "metadata": {
        "nteract": {
          "transient": {
            "deleting": false
          }
        }
      }
    },
    {
      "cell_type": "code",
      "source": [
        "myFriends[3]"
      ],
      "outputs": [
        {
          "output_type": "execute_result",
          "execution_count": 25,
          "data": {
            "text/plain": [
              "\"Libardo\""
            ]
          },
          "metadata": {}
        }
      ],
      "execution_count": 25,
      "metadata": {
        "collapsed": true,
        "outputExpanded": false,
        "jupyter": {
          "source_hidden": false,
          "outputs_hidden": false
        },
        "nteract": {
          "transient": {
            "deleting": false
          }
        },
        "execution": {
          "iopub.status.busy": "2020-04-20T06:16:41.645Z",
          "iopub.execute_input": "2020-04-20T06:16:41.657Z",
          "iopub.status.idle": "2020-04-20T06:16:41.677Z"
        }
      }
    },
    {
      "cell_type": "markdown",
      "source": [
        "Por otro lado, si deseo actualizar o cambiar el valor que se encuentra almacenado en cuarta posición de mi array `myFriends` lo puedo realizar por medio de la indexación y asignando el nuevo valor"
      ],
      "metadata": {
        "nteract": {
          "transient": {
            "deleting": false
          }
        }
      }
    },
    {
      "cell_type": "code",
      "source": [
        "myFriends[4] = \"David\""
      ],
      "outputs": [
        {
          "output_type": "execute_result",
          "execution_count": 26,
          "data": {
            "text/plain": [
              "\"David\""
            ]
          },
          "metadata": {}
        }
      ],
      "execution_count": 26,
      "metadata": {
        "collapsed": true,
        "outputExpanded": false,
        "jupyter": {
          "source_hidden": false,
          "outputs_hidden": false
        },
        "nteract": {
          "transient": {
            "deleting": false
          }
        },
        "execution": {
          "iopub.status.busy": "2020-04-20T06:18:09.010Z",
          "iopub.execute_input": "2020-04-20T06:18:09.017Z",
          "iopub.status.idle": "2020-04-20T06:18:09.033Z"
        }
      }
    },
    {
      "cell_type": "markdown",
      "source": [
        "Observemos el estado actual de nuestro arreglo __myFriends__"
      ],
      "metadata": {
        "nteract": {
          "transient": {
            "deleting": false
          }
        }
      }
    },
    {
      "cell_type": "code",
      "source": [
        "myFriends"
      ],
      "outputs": [
        {
          "output_type": "execute_result",
          "execution_count": 27,
          "data": {
            "text/plain": [
              "4-element Array{String,1}:\n",
              " \"Juan\"\n",
              " \"Alirio\"\n",
              " \"Libardo\"\n",
              " \"David\""
            ]
          },
          "metadata": {}
        }
      ],
      "execution_count": 27,
      "metadata": {
        "collapsed": true,
        "outputExpanded": false,
        "jupyter": {
          "source_hidden": false,
          "outputs_hidden": false
        },
        "nteract": {
          "transient": {
            "deleting": false
          }
        },
        "execution": {
          "iopub.status.busy": "2020-04-20T06:18:42.691Z",
          "iopub.execute_input": "2020-04-20T06:18:42.698Z",
          "iopub.status.idle": "2020-04-20T06:18:42.714Z"
        }
      }
    },
    {
      "cell_type": "markdown",
      "source": [
        "Cuando estamos manipulando arreglos podemos querer en momentos específicos __Agregar nuevos elementos__ o __Eliminar elementos existentes__ para ello Julia nos provee dos funciones claves, estás son: **pop!** y **push!**. Donde __push!__ agrega un nuevo al final del __Array__ y __pop!__ eliminna el último elemento almacenado en el __Array__.\n",
        "\n",
        "Podemos agregar un nuevo número a nuestra secuencia del array __fibonacci__"
      ],
      "metadata": {
        "nteract": {
          "transient": {
            "deleting": false
          }
        }
      }
    },
    {
      "cell_type": "code",
      "source": [
        "push!(fibonacci, 21)"
      ],
      "outputs": [
        {
          "output_type": "execute_result",
          "execution_count": 28,
          "data": {
            "text/plain": [
              "8-element Array{Int64,1}:\n",
              "  1\n",
              "  1\n",
              "  2\n",
              "  3\n",
              "  5\n",
              "  8\n",
              " 13\n",
              " 21"
            ]
          },
          "metadata": {}
        }
      ],
      "execution_count": 28,
      "metadata": {
        "collapsed": true,
        "outputExpanded": false,
        "jupyter": {
          "source_hidden": false,
          "outputs_hidden": false
        },
        "nteract": {
          "transient": {
            "deleting": false
          }
        },
        "execution": {
          "iopub.status.busy": "2020-04-20T06:22:58.149Z",
          "iopub.execute_input": "2020-04-20T06:22:58.160Z",
          "iopub.status.idle": "2020-04-20T06:22:58.176Z"
        }
      }
    },
    {
      "cell_type": "markdown",
      "source": [
        "y también podemos eliminarlo"
      ],
      "metadata": {
        "nteract": {
          "transient": {
            "deleting": false
          }
        }
      }
    },
    {
      "cell_type": "code",
      "source": [
        "pop!(fibonacci)"
      ],
      "outputs": [
        {
          "output_type": "execute_result",
          "execution_count": 29,
          "data": {
            "text/plain": [
              "21"
            ]
          },
          "metadata": {}
        }
      ],
      "execution_count": 29,
      "metadata": {
        "collapsed": true,
        "outputExpanded": false,
        "jupyter": {
          "source_hidden": false,
          "outputs_hidden": false
        },
        "nteract": {
          "transient": {
            "deleting": false
          }
        },
        "execution": {
          "iopub.status.busy": "2020-04-20T06:23:26.794Z",
          "iopub.execute_input": "2020-04-20T06:23:26.802Z",
          "iopub.status.idle": "2020-04-20T06:23:27.570Z"
        }
      }
    },
    {
      "cell_type": "markdown",
      "source": [
        "Hasta este punto hemos realizado distintos ejemplos solo en __una dimensión 1D__ de areglos escalares, pero los __arrays__ permiten tener un __número arbitrario de dimensiones__ los cuales podemos almacenar en dichos arreglos.\n",
        "\n",
        "Por ejemplo, el siguiente arreglo de arreglos"
      ],
      "metadata": {
        "nteract": {
          "transient": {
            "deleting": false
          }
        }
      }
    },
    {
      "cell_type": "code",
      "source": [
        "favorites = [[\"chocolate\" , \"huevos\", \"arepas\"] , [\"pinguinos\", \"caballos\", \"perros\"] , [\"carro\", \"moto\", \"bus\"]]"
      ],
      "outputs": [
        {
          "output_type": "execute_result",
          "execution_count": 31,
          "data": {
            "text/plain": [
              "3-element Array{Array{String,1},1}:\n",
              " [\"chocolate\", \"huevos\", \"arepas\"]\n",
              " [\"pinguinos\", \"caballos\", \"perros\"]\n",
              " [\"carro\", \"moto\", \"bus\"]"
            ]
          },
          "metadata": {}
        }
      ],
      "execution_count": 31,
      "metadata": {
        "collapsed": true,
        "outputExpanded": false,
        "jupyter": {
          "source_hidden": false,
          "outputs_hidden": false
        },
        "nteract": {
          "transient": {
            "deleting": false
          }
        },
        "execution": {
          "iopub.status.busy": "2020-04-20T06:27:50.601Z",
          "iopub.execute_input": "2020-04-20T06:27:50.612Z",
          "iopub.status.idle": "2020-04-20T06:27:50.634Z"
        }
      }
    },
    {
      "cell_type": "code",
      "source": [
        "numbers = [[1, 2, 3] , [6,9] , [1.8, 6.7]]"
      ],
      "outputs": [
        {
          "output_type": "execute_result",
          "execution_count": 32,
          "data": {
            "text/plain": [
              "3-element Array{Array{Float64,1},1}:\n",
              " [1.0, 2.0, 3.0]\n",
              " [6.0, 9.0]\n",
              " [1.8, 6.7]"
            ]
          },
          "metadata": {}
        }
      ],
      "execution_count": 32,
      "metadata": {
        "collapsed": true,
        "outputExpanded": false,
        "jupyter": {
          "source_hidden": false,
          "outputs_hidden": false
        },
        "nteract": {
          "transient": {
            "deleting": false
          }
        },
        "execution": {
          "iopub.status.busy": "2020-04-20T06:28:28.635Z",
          "iopub.execute_input": "2020-04-20T06:28:28.649Z",
          "iopub.status.idle": "2020-04-20T06:28:30.097Z"
        }
      }
    },
    {
      "cell_type": "markdown",
      "source": [
        "En el siguiente ejemplo puedo crear un __array de 2D y 3D__ poblado de números aleatorios"
      ],
      "metadata": {
        "nteract": {
          "transient": {
            "deleting": false
          }
        }
      }
    },
    {
      "cell_type": "code",
      "source": [
        "rand(4,3)"
      ],
      "outputs": [
        {
          "output_type": "execute_result",
          "execution_count": 34,
          "data": {
            "text/plain": [
              "4×3 Array{Float64,2}:\n",
              " 0.123846  0.676558  0.0602252\n",
              " 0.851104  0.593932  0.968736\n",
              " 0.909426  0.553539  0.963288\n",
              " 0.467514  0.773478  0.155644"
            ]
          },
          "metadata": {}
        }
      ],
      "execution_count": 34,
      "metadata": {
        "collapsed": true,
        "outputExpanded": false,
        "jupyter": {
          "source_hidden": false,
          "outputs_hidden": false
        },
        "nteract": {
          "transient": {
            "deleting": false
          }
        },
        "execution": {
          "iopub.status.busy": "2020-04-20T06:29:48.826Z",
          "iopub.execute_input": "2020-04-20T06:29:48.835Z",
          "iopub.status.idle": "2020-04-20T06:29:48.857Z"
        }
      }
    },
    {
      "cell_type": "code",
      "source": [
        "rand(4,3,2)"
      ],
      "outputs": [
        {
          "output_type": "execute_result",
          "execution_count": 35,
          "data": {
            "text/plain": [
              "4×3×2 Array{Float64,3}:\n",
              "[:, :, 1] =\n",
              " 0.0973637  0.877399  0.191743\n",
              " 0.481752   0.836739  0.95846\n",
              " 0.871373   0.470967  0.208114\n",
              " 0.657357   0.115857  0.227598\n",
              "\n",
              "[:, :, 2] =\n",
              " 0.224997  0.274659  0.287819\n",
              " 0.998817  0.450228  0.838941\n",
              " 0.935965  0.920663  0.956617\n",
              " 0.195073  0.601682  0.52743"
            ]
          },
          "metadata": {}
        }
      ],
      "execution_count": 35,
      "metadata": {
        "collapsed": true,
        "outputExpanded": false,
        "jupyter": {
          "source_hidden": false,
          "outputs_hidden": false
        },
        "nteract": {
          "transient": {
            "deleting": false
          }
        },
        "execution": {
          "iopub.status.busy": "2020-04-20T06:29:55.739Z",
          "iopub.execute_input": "2020-04-20T06:29:55.756Z",
          "iopub.status.idle": "2020-04-20T06:29:57.580Z"
        }
      }
    }
  ],
  "metadata": {
    "kernel_info": {
      "name": "julia-1.4"
    },
    "language_info": {
      "file_extension": ".jl",
      "name": "julia",
      "mimetype": "application/julia",
      "version": "1.4.0"
    },
    "kernelspec": {
      "argv": [
        "/Applications/JuliaPro-1.4.0-1.app/Contents/Resources/julia/Contents/Resources/julia/bin/julia",
        "-i",
        "--startup-file=yes",
        "--color=yes",
        "--project=@.",
        "/Users/johnflorez/.juliapro/JuliaPro_v1.4.0-1/packages/IJulia/fRegO/src/kernel.jl",
        "{connection_file}"
      ],
      "display_name": "Julia 1.4.0",
      "env": {},
      "interrupt_mode": "signal",
      "language": "julia",
      "name": "julia-1.4"
    },
    "nteract": {
      "version": "0.22.4"
    }
  },
  "nbformat": 4,
  "nbformat_minor": 0
}